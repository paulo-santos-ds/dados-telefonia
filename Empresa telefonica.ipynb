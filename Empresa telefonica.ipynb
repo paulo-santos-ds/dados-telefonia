{
 "cells": [
  {
   "cell_type": "markdown",
   "metadata": {},
   "source": [
    "# Descrição do projeto"
   ]
  },
  {
   "cell_type": "markdown",
   "metadata": {},
   "source": [
    "A operadora de celular Megaline está insatisfeita com o fato de muitos de seus clientes estarem usando planos antigos. Ela quer desenvolver um modelo que possa analisar o comportamento do cliente e recomendar um dos planos mais recentes da Megaline: Smart ou Ultra.\n",
    "\n",
    "Você tem acesso a dados de comportamento dos clientes que já mudaram para os novos planos (do projeto do curso de Análise de dados estatísticos). Para essa tarefa de classificação, você precisa desenvolver um modelo que escolhe o plano certo. Como você já executou a etapa de pré-processamento de dados, pode ir direto para a criação do modelo.\n",
    "\n",
    "Desenvolva um modelo com a maior acurácia possível. Neste projeto, o limite para acurácia é 0,75. Verifique a acurácia usando o conjunto de dados de teste."
   ]
  },
  {
   "cell_type": "markdown",
   "metadata": {},
   "source": [
    "# Dicionario dos dados"
   ]
  },
  {
   "cell_type": "markdown",
   "metadata": {},
   "source": [
    "сalls — número de chamadas\n",
    "\n",
    "minutes — duração total da chamada em minutos\n",
    "\n",
    "messages — número de mensagens de texto\n",
    "\n",
    "mb_used — Tráfego de internet usado em MB\n",
    "\n",
    "is_ultra — plano para o mês atual (Ultra - 1, Smart - 0)"
   ]
  },
  {
   "cell_type": "markdown",
   "metadata": {},
   "source": [
    "## Bibliotecas utilizadas"
   ]
  },
  {
   "cell_type": "code",
   "execution_count": 1,
   "metadata": {},
   "outputs": [],
   "source": [
    "import pandas as pd\n",
    "import numpy as np\n",
    "from sklearn.model_selection import train_test_split, cross_val_score\n",
    "from sklearn.linear_model import LogisticRegression\n",
    "from sklearn.tree import DecisionTreeClassifier\n",
    "from sklearn.ensemble import RandomForestClassifier\n",
    "from sklearn.metrics import accuracy_score\n",
    "import seaborn as sns\n",
    "import matplotlib.pyplot as plt\n",
    "from sklearn.model_selection import GridSearchCV\n"
   ]
  },
  {
   "cell_type": "markdown",
   "metadata": {},
   "source": [
    "## importando os dados"
   ]
  },
  {
   "cell_type": "code",
   "execution_count": 2,
   "metadata": {},
   "outputs": [
    {
     "data": {
      "text/html": [
       "<div>\n",
       "<style scoped>\n",
       "    .dataframe tbody tr th:only-of-type {\n",
       "        vertical-align: middle;\n",
       "    }\n",
       "\n",
       "    .dataframe tbody tr th {\n",
       "        vertical-align: top;\n",
       "    }\n",
       "\n",
       "    .dataframe thead th {\n",
       "        text-align: right;\n",
       "    }\n",
       "</style>\n",
       "<table border=\"1\" class=\"dataframe\">\n",
       "  <thead>\n",
       "    <tr style=\"text-align: right;\">\n",
       "      <th></th>\n",
       "      <th>calls</th>\n",
       "      <th>minutes</th>\n",
       "      <th>messages</th>\n",
       "      <th>mb_used</th>\n",
       "      <th>is_ultra</th>\n",
       "    </tr>\n",
       "  </thead>\n",
       "  <tbody>\n",
       "    <tr>\n",
       "      <th>0</th>\n",
       "      <td>40.0</td>\n",
       "      <td>311.90</td>\n",
       "      <td>83.0</td>\n",
       "      <td>19915.42</td>\n",
       "      <td>0</td>\n",
       "    </tr>\n",
       "    <tr>\n",
       "      <th>1</th>\n",
       "      <td>85.0</td>\n",
       "      <td>516.75</td>\n",
       "      <td>56.0</td>\n",
       "      <td>22696.96</td>\n",
       "      <td>0</td>\n",
       "    </tr>\n",
       "    <tr>\n",
       "      <th>2</th>\n",
       "      <td>77.0</td>\n",
       "      <td>467.66</td>\n",
       "      <td>86.0</td>\n",
       "      <td>21060.45</td>\n",
       "      <td>0</td>\n",
       "    </tr>\n",
       "    <tr>\n",
       "      <th>3</th>\n",
       "      <td>106.0</td>\n",
       "      <td>745.53</td>\n",
       "      <td>81.0</td>\n",
       "      <td>8437.39</td>\n",
       "      <td>1</td>\n",
       "    </tr>\n",
       "    <tr>\n",
       "      <th>4</th>\n",
       "      <td>66.0</td>\n",
       "      <td>418.74</td>\n",
       "      <td>1.0</td>\n",
       "      <td>14502.75</td>\n",
       "      <td>0</td>\n",
       "    </tr>\n",
       "  </tbody>\n",
       "</table>\n",
       "</div>"
      ],
      "text/plain": [
       "   calls  minutes  messages   mb_used  is_ultra\n",
       "0   40.0   311.90      83.0  19915.42         0\n",
       "1   85.0   516.75      56.0  22696.96         0\n",
       "2   77.0   467.66      86.0  21060.45         0\n",
       "3  106.0   745.53      81.0   8437.39         1\n",
       "4   66.0   418.74       1.0  14502.75         0"
      ]
     },
     "execution_count": 2,
     "metadata": {},
     "output_type": "execute_result"
    }
   ],
   "source": [
    "\n",
    "df = pd.read_csv(\"users_behavior.csv\")\n",
    "df.head()\n"
   ]
  },
  {
   "cell_type": "markdown",
   "metadata": {},
   "source": [
    "## verificando se ha  dados nulos"
   ]
  },
  {
   "cell_type": "code",
   "execution_count": 3,
   "metadata": {},
   "outputs": [
    {
     "data": {
      "text/plain": [
       "calls       0\n",
       "minutes     0\n",
       "messages    0\n",
       "mb_used     0\n",
       "is_ultra    0\n",
       "dtype: int64"
      ]
     },
     "execution_count": 3,
     "metadata": {},
     "output_type": "execute_result"
    }
   ],
   "source": [
    "df[['calls', 'minutes', 'messages', 'mb_used', 'is_ultra']].isna().sum()\n"
   ]
  },
  {
   "cell_type": "markdown",
   "metadata": {},
   "source": [
    "Não foi observado dados nulos"
   ]
  },
  {
   "cell_type": "markdown",
   "metadata": {},
   "source": [
    "## Divisão dos dados em treino e validação"
   ]
  },
  {
   "cell_type": "code",
   "execution_count": 4,
   "metadata": {},
   "outputs": [],
   "source": [
    "df_train, df_validacao = train_test_split(df, stratify=df['is_ultra'],test_size=0.2, random_state=42) \n",
    "df_validacao, df_test = train_test_split(df_validacao, stratify=df_validacao['is_ultra'],test_size=0.2, random_state=42) "
   ]
  },
  {
   "cell_type": "code",
   "execution_count": 5,
   "metadata": {},
   "outputs": [
    {
     "data": {
      "text/plain": [
       "((2571, 5), (514, 5), (129, 5))"
      ]
     },
     "execution_count": 5,
     "metadata": {},
     "output_type": "execute_result"
    }
   ],
   "source": [
    "df_train.shape, df_validacao.shape, df_test.shape"
   ]
  },
  {
   "cell_type": "code",
   "execution_count": 6,
   "metadata": {},
   "outputs": [
    {
     "data": {
      "text/plain": [
       "is_ultra\n",
       "0    0.693504\n",
       "1    0.306496\n",
       "Name: proportion, dtype: float64"
      ]
     },
     "execution_count": 6,
     "metadata": {},
     "output_type": "execute_result"
    }
   ],
   "source": [
    "df_train['is_ultra'].value_counts(normalize=True)"
   ]
  },
  {
   "cell_type": "code",
   "execution_count": null,
   "metadata": {},
   "outputs": [],
   "source": []
  },
  {
   "cell_type": "markdown",
   "metadata": {},
   "source": [
    "## Descrição dos dados"
   ]
  },
  {
   "cell_type": "markdown",
   "metadata": {},
   "source": [
    "### Informações gerais dos dados"
   ]
  },
  {
   "cell_type": "code",
   "execution_count": 7,
   "metadata": {},
   "outputs": [
    {
     "name": "stdout",
     "output_type": "stream",
     "text": [
      "<class 'pandas.core.frame.DataFrame'>\n",
      "Index: 2571 entries, 576 to 500\n",
      "Data columns (total 5 columns):\n",
      " #   Column    Non-Null Count  Dtype  \n",
      "---  ------    --------------  -----  \n",
      " 0   calls     2571 non-null   float64\n",
      " 1   minutes   2571 non-null   float64\n",
      " 2   messages  2571 non-null   float64\n",
      " 3   mb_used   2571 non-null   float64\n",
      " 4   is_ultra  2571 non-null   int64  \n",
      "dtypes: float64(4), int64(1)\n",
      "memory usage: 120.5 KB\n"
     ]
    }
   ],
   "source": [
    "df_train.info()"
   ]
  },
  {
   "cell_type": "markdown",
   "metadata": {},
   "source": [
    "### verificando linhas duplicadas"
   ]
  },
  {
   "cell_type": "code",
   "execution_count": 8,
   "metadata": {},
   "outputs": [
    {
     "data": {
      "text/plain": [
       "np.int64(0)"
      ]
     },
     "execution_count": 8,
     "metadata": {},
     "output_type": "execute_result"
    }
   ],
   "source": [
    "df_train.duplicated().sum()"
   ]
  },
  {
   "cell_type": "markdown",
   "metadata": {},
   "source": [
    "não existe duplicados"
   ]
  },
  {
   "cell_type": "markdown",
   "metadata": {},
   "source": [
    "### verificando distribuição de classe"
   ]
  },
  {
   "cell_type": "code",
   "execution_count": 9,
   "metadata": {},
   "outputs": [
    {
     "data": {
      "text/plain": [
       "is_ultra\n",
       "0    69.35\n",
       "1    30.65\n",
       "Name: proportion, dtype: float64"
      ]
     },
     "execution_count": 9,
     "metadata": {},
     "output_type": "execute_result"
    }
   ],
   "source": [
    "df_train['is_ultra'].value_counts(normalize=True).round(4)*100"
   ]
  },
  {
   "cell_type": "markdown",
   "metadata": {},
   "source": [
    "69.35% da base de dados e do palno surf"
   ]
  },
  {
   "cell_type": "markdown",
   "metadata": {},
   "source": [
    "### Analise descritiva"
   ]
  },
  {
   "cell_type": "code",
   "execution_count": 10,
   "metadata": {},
   "outputs": [
    {
     "data": {
      "text/html": [
       "<div>\n",
       "<style scoped>\n",
       "    .dataframe tbody tr th:only-of-type {\n",
       "        vertical-align: middle;\n",
       "    }\n",
       "\n",
       "    .dataframe tbody tr th {\n",
       "        vertical-align: top;\n",
       "    }\n",
       "\n",
       "    .dataframe thead th {\n",
       "        text-align: right;\n",
       "    }\n",
       "</style>\n",
       "<table border=\"1\" class=\"dataframe\">\n",
       "  <thead>\n",
       "    <tr style=\"text-align: right;\">\n",
       "      <th></th>\n",
       "      <th>count</th>\n",
       "      <th>mean</th>\n",
       "      <th>std</th>\n",
       "      <th>min</th>\n",
       "      <th>25%</th>\n",
       "      <th>50%</th>\n",
       "      <th>75%</th>\n",
       "      <th>max</th>\n",
       "    </tr>\n",
       "  </thead>\n",
       "  <tbody>\n",
       "    <tr>\n",
       "      <th>calls</th>\n",
       "      <td>2571.0</td>\n",
       "      <td>63.432517</td>\n",
       "      <td>33.049586</td>\n",
       "      <td>0.0</td>\n",
       "      <td>40.00</td>\n",
       "      <td>63.00</td>\n",
       "      <td>82.000</td>\n",
       "      <td>203.00</td>\n",
       "    </tr>\n",
       "    <tr>\n",
       "      <th>minutes</th>\n",
       "      <td>2571.0</td>\n",
       "      <td>441.398884</td>\n",
       "      <td>233.839668</td>\n",
       "      <td>0.0</td>\n",
       "      <td>278.38</td>\n",
       "      <td>433.63</td>\n",
       "      <td>576.035</td>\n",
       "      <td>1566.45</td>\n",
       "    </tr>\n",
       "    <tr>\n",
       "      <th>messages</th>\n",
       "      <td>2571.0</td>\n",
       "      <td>37.998055</td>\n",
       "      <td>35.636290</td>\n",
       "      <td>0.0</td>\n",
       "      <td>10.00</td>\n",
       "      <td>30.00</td>\n",
       "      <td>56.000</td>\n",
       "      <td>224.00</td>\n",
       "    </tr>\n",
       "    <tr>\n",
       "      <th>mb_used</th>\n",
       "      <td>2571.0</td>\n",
       "      <td>17218.920416</td>\n",
       "      <td>7645.248770</td>\n",
       "      <td>0.0</td>\n",
       "      <td>12408.51</td>\n",
       "      <td>17001.87</td>\n",
       "      <td>21467.060</td>\n",
       "      <td>49745.73</td>\n",
       "    </tr>\n",
       "    <tr>\n",
       "      <th>is_ultra</th>\n",
       "      <td>2571.0</td>\n",
       "      <td>0.306496</td>\n",
       "      <td>0.461128</td>\n",
       "      <td>0.0</td>\n",
       "      <td>0.00</td>\n",
       "      <td>0.00</td>\n",
       "      <td>1.000</td>\n",
       "      <td>1.00</td>\n",
       "    </tr>\n",
       "  </tbody>\n",
       "</table>\n",
       "</div>"
      ],
      "text/plain": [
       "           count          mean          std  min       25%       50%  \\\n",
       "calls     2571.0     63.432517    33.049586  0.0     40.00     63.00   \n",
       "minutes   2571.0    441.398884   233.839668  0.0    278.38    433.63   \n",
       "messages  2571.0     37.998055    35.636290  0.0     10.00     30.00   \n",
       "mb_used   2571.0  17218.920416  7645.248770  0.0  12408.51  17001.87   \n",
       "is_ultra  2571.0      0.306496     0.461128  0.0      0.00      0.00   \n",
       "\n",
       "                75%       max  \n",
       "calls        82.000    203.00  \n",
       "minutes     576.035   1566.45  \n",
       "messages     56.000    224.00  \n",
       "mb_used   21467.060  49745.73  \n",
       "is_ultra      1.000      1.00  "
      ]
     },
     "execution_count": 10,
     "metadata": {},
     "output_type": "execute_result"
    }
   ],
   "source": [
    "#utilização dos dados de treino ('df_train')\n",
    "df_train.describe().T"
   ]
  },
  {
   "cell_type": "markdown",
   "metadata": {},
   "source": [
    "não foi observado outlier"
   ]
  },
  {
   "cell_type": "markdown",
   "metadata": {},
   "source": [
    "### Analise de correlação dos dados"
   ]
  },
  {
   "cell_type": "code",
   "execution_count": 11,
   "metadata": {},
   "outputs": [
    {
     "data": {
      "image/png": "[encoded data removed]",
      "text/plain": [
       "<Figure size 640x480 with 1 Axes>"
      ]
     },
     "metadata": {},
     "output_type": "display_data"
    }
   ],
   "source": [
    "\n",
    "sns.scatterplot(data=df, x='minutes', y='calls')\n",
    "sns.regplot(data=df, x='minutes', y='calls', scatter=False, color='red')\n",
    "plt.show()"
   ]
  },
  {
   "cell_type": "markdown",
   "metadata": {},
   "source": [
    "Existe uma boa correlação entre calls e minutes"
   ]
  },
  {
   "cell_type": "markdown",
   "metadata": {},
   "source": [
    "## analise exploratoria de dados"
   ]
  },
  {
   "cell_type": "code",
   "execution_count": 12,
   "metadata": {},
   "outputs": [
    {
     "data": {
      "image/png": "[encoded data removed]",
      "text/plain": [
       "<Figure size 640x480 with 1 Axes>"
      ]
     },
     "metadata": {},
     "output_type": "display_data"
    }
   ],
   "source": [
    "sns.boxplot(data=df_train, x='is_ultra', y='minutes');"
   ]
  },
  {
   "cell_type": "markdown",
   "metadata": {},
   "source": [
    "Quando o valor de ‘is_ultra’ é zero, os clientes tendem a usar menos minutos em comparação com quando ‘ultra’ é igual a um. observado que existe uma diferença na mediana acima de 400 possivel de ser plano ultra, menor de 400 plano smart\n"
   ]
  },
  {
   "cell_type": "code",
   "execution_count": 13,
   "metadata": {},
   "outputs": [
    {
     "data": {
      "image/png": "[encoded data removed]",
      "text/plain": [
       "<Figure size 640x480 with 1 Axes>"
      ]
     },
     "metadata": {},
     "output_type": "display_data"
    }
   ],
   "source": [
    "sns.scatterplot(data=df_train, x='minutes', y='calls');\n",
    "sns.regplot(data=df, x='minutes', y='calls', scatter=False, color='Green')\n",
    "plt.show()"
   ]
  },
  {
   "cell_type": "markdown",
   "metadata": {},
   "source": [
    "A pessoa que gasta mais minutos com certeza realizou mais ligações"
   ]
  },
  {
   "cell_type": "markdown",
   "metadata": {},
   "source": [
    "## Preparação dos dados para treinamento"
   ]
  },
  {
   "cell_type": "markdown",
   "metadata": {},
   "source": [
    "### dados para treinamento "
   ]
  },
  {
   "cell_type": "code",
   "execution_count": 14,
   "metadata": {},
   "outputs": [],
   "source": [
    "x_train = df_train.drop(columns=['is_ultra'], axis=1)\n",
    "y_train = df_train['is_ultra']"
   ]
  },
  {
   "cell_type": "markdown",
   "metadata": {},
   "source": [
    "### dados para teste"
   ]
  },
  {
   "cell_type": "code",
   "execution_count": 15,
   "metadata": {},
   "outputs": [],
   "source": [
    "x_test = df_test.drop(columns=['is_ultra'])\n",
    "y_test = df_test['is_ultra']"
   ]
  },
  {
   "cell_type": "markdown",
   "metadata": {},
   "source": [
    "### dados para Validação"
   ]
  },
  {
   "cell_type": "code",
   "execution_count": 16,
   "metadata": {},
   "outputs": [],
   "source": [
    "x_validacao = df_validacao.drop(columns=['is_ultra'])\n",
    "y_validacao = df_validacao['is_ultra']"
   ]
  },
  {
   "cell_type": "markdown",
   "metadata": {},
   "source": [
    "## Modelagem"
   ]
  },
  {
   "cell_type": "markdown",
   "metadata": {},
   "source": [
    "###  Árvore de Decisão\n"
   ]
  },
  {
   "cell_type": "code",
   "execution_count": 17,
   "metadata": {},
   "outputs": [
    {
     "name": "stdout",
     "output_type": "stream",
     "text": [
      "max_depth = 1: Validação: 74.71 %   Teste: 79.84 %\n",
      "max_depth = 2: Validação: 77.63 %   Teste: 84.50 %\n",
      "max_depth = 3: Validação: 78.02 %   Teste: 86.82 %\n",
      "max_depth = 4: Validação: 78.02 %   Teste: 86.05 %\n",
      "max_depth = 5: Validação: 76.26 %   Teste: 80.62 %\n",
      "max_depth = 6: Validação: 79.18 %   Teste: 84.50 %\n",
      "max_depth = 7: Validação: 77.82 %   Teste: 83.72 %\n",
      "max_depth = 8: Validação: 77.63 %   Teste: 85.27 %\n",
      "max_depth = 9: Validação: 78.02 %   Teste: 82.17 %\n"
     ]
    }
   ],
   "source": [
    "\n",
    "# Alterando o hiperparâmetro max_depth \n",
    "for depth in range(1, 10):\n",
    "    clf = DecisionTreeClassifier(random_state=123456789, max_depth=depth)\n",
    "    clf.fit(x_train, y_train)\n",
    "    predictions_valid = clf.predict(x_validacao)\n",
    "    predictions_test = clf.predict(x_test)\n",
    "    print(f'max_depth = {depth}: Validação: {accuracy_score(y_validacao, predictions_valid)*100:.2f}','%'  \n",
    "          f'   Teste: {accuracy_score(y_test, predictions_test)*100:.2f}', '%')\n",
    "\n"
   ]
  },
  {
   "cell_type": "markdown",
   "metadata": {},
   "source": [
    "\n",
    "\n",
    "Aumentei gradualmente o hiperparâmetro **max_depth** até 40 para encontrar a melhor acurácia possível. Descobri que a profundidade ideal era 2, então redefini o código para 10, o que o deixou mais limpo.\n",
    "\n",
    "Além disso, testei vários valores para o hiperparâmetro **random_state**, e o melhor resultado foi o que utilizei no código final.\n"
   ]
  },
  {
   "cell_type": "markdown",
   "metadata": {},
   "source": [
    "### Floresta Aleatória\n"
   ]
  },
  {
   "cell_type": "code",
   "execution_count": 18,
   "metadata": {},
   "outputs": [
    {
     "name": "stdout",
     "output_type": "stream",
     "text": [
      "A acurácia do melhor desempenho do modelo no conjunto de validação (n_estimators = 11): 80.35 %\n"
     ]
    }
   ],
   "source": [
    "\n",
    "# Alterando o hiperparâmetro n_estimators \n",
    "best_score = 0\n",
    "best_est = 0\n",
    "for i in range(1, 20):\n",
    "    clf = RandomForestClassifier(random_state=1234567, n_estimators=i)\n",
    "    clf.fit(x_train, y_train)\n",
    "    score = clf.score(x_validacao, y_validacao)\n",
    "    if score > best_score:\n",
    "        best_score = score\n",
    "        best_est = i\n",
    "\n",
    "print(\"A acurácia do melhor desempenho do modelo no conjunto de validação (n_estimators = {}): {:.2f}\"\n",
    "      .format(best_est, best_score*100),'%')\n"
   ]
  },
  {
   "cell_type": "code",
   "execution_count": 19,
   "metadata": {},
   "outputs": [
    {
     "name": "stdout",
     "output_type": "stream",
     "text": [
      "A acurácia do melhor desempenho do modelo no conjunto de teste (n_estimators = 11): 84.50 %\n"
     ]
    }
   ],
   "source": [
    "\n",
    "clf = RandomForestClassifier(random_state=1234567, n_estimators=11)\n",
    "clf.fit(x_train, y_train)\n",
    "\n",
    "y_predicao = clf.predict(x_test)\n",
    "accuracy = accuracy_score(y_test, y_predicao)\n",
    "\n",
    "print(\"A acurácia do melhor desempenho do modelo no conjunto de teste (n_estimators = {}): {:.2f}\".format(11, accuracy*100),'%')\n"
   ]
  },
  {
   "cell_type": "markdown",
   "metadata": {},
   "source": [
    "### Regressão Logística\n"
   ]
  },
  {
   "cell_type": "code",
   "execution_count": 20,
   "metadata": {},
   "outputs": [
    {
     "name": "stdout",
     "output_type": "stream",
     "text": [
      "A acurácia do melhor desempenho do modelo no conjunto de treinamento: 69.93 %\n",
      "A acurácia do melhor desempenho do modelo no conjunto de validação:   69.84 %\n",
      "A acurácia do melhor desempenho do modelo no conjunto de teste:       70.54 %\n"
     ]
    }
   ],
   "source": [
    "\n",
    "clf = LogisticRegression(random_state=1234567, solver='liblinear')\n",
    "clf.fit(x_train, y_train)\n",
    "\n",
    "clf_train = clf.score(x_train, y_train)\n",
    "clf_valid = clf.score(x_validacao, y_validacao)\n",
    "clf_test = clf.score(x_test, y_test)\n",
    "\n",
    "print(\"A acurácia do melhor desempenho do modelo no conjunto de treinamento: {:.2f}\".format(clf_train*100),'%')\n",
    "print(\"A acurácia do melhor desempenho do modelo no conjunto de validação:   {:.2f}\".format(clf_valid*100),'%')\n",
    "print(\"A acurácia do melhor desempenho do modelo no conjunto de teste:       {:.2f}\".format(clf_test*100),'%')\n"
   ]
  },
  {
   "cell_type": "markdown",
   "metadata": {},
   "source": [
    "# Conclusão"
   ]
  },
  {
   "cell_type": "markdown",
   "metadata": {},
   "source": [
    "O sklearn oferece uma ampla gama de algoritmos de aprendizado de máquina, desde regressão linear até redes neurais, permitindo a aplicação em diversos problemas. Com uma interface simples e consistente, o sklearn facilita a implementação e experimentação de modelos de aprendizado de máquina. Conforme observamos na análise de planos de telefonia, o modelo **RandomForestClassifier** destacou-se em relação aos outros, demosntrando uma **accuracya de 84,5%.**"
   ]
  }
 ],
 "metadata": {
  "ExecuteTimeLog": [
   {
    "duration": 3,
    "start_time": "2024-10-09T19:48:09.069Z"
   },
   {
    "duration": 448,
    "start_time": "2024-10-09T19:51:28.853Z"
   },
   {
    "duration": 393,
    "start_time": "2024-10-09T19:54:39.084Z"
   },
   {
    "duration": 3,
    "start_time": "2024-10-09T19:56:22.814Z"
   },
   {
    "duration": 14,
    "start_time": "2024-10-09T19:56:59.244Z"
   },
   {
    "duration": 13,
    "start_time": "2024-10-09T19:57:36.086Z"
   },
   {
    "duration": 13,
    "start_time": "2024-10-09T19:57:48.548Z"
   },
   {
    "duration": 58,
    "start_time": "2024-10-09T19:58:14.755Z"
   },
   {
    "duration": 3,
    "start_time": "2024-10-09T19:58:19.354Z"
   },
   {
    "duration": 112,
    "start_time": "2024-10-09T19:58:52.975Z"
   },
   {
    "duration": 157,
    "start_time": "2024-10-11T12:21:12.550Z"
   },
   {
    "duration": 770,
    "start_time": "2024-10-11T12:21:16.003Z"
   },
   {
    "duration": 365,
    "start_time": "2024-10-11T12:21:18.948Z"
   },
   {
    "duration": 59,
    "start_time": "2024-10-11T12:21:22.502Z"
   },
   {
    "duration": 19,
    "start_time": "2024-10-11T12:22:08.539Z"
   },
   {
    "duration": 4,
    "start_time": "2024-10-11T12:22:21.159Z"
   },
   {
    "duration": 15,
    "start_time": "2024-10-11T12:22:24.583Z"
   },
   {
    "duration": 8,
    "start_time": "2024-10-11T12:22:27.300Z"
   },
   {
    "duration": 159,
    "start_time": "2024-10-11T18:13:58.555Z"
   },
   {
    "duration": 790,
    "start_time": "2024-10-11T18:14:07.529Z"
   },
   {
    "duration": 21,
    "start_time": "2024-10-11T18:14:08.365Z"
   },
   {
    "duration": 17,
    "start_time": "2024-10-11T19:02:56.461Z"
   },
   {
    "duration": 3,
    "start_time": "2024-10-11T19:03:06.717Z"
   },
   {
    "duration": 17,
    "start_time": "2024-10-11T19:03:27.505Z"
   },
   {
    "duration": 2,
    "start_time": "2024-10-11T19:03:52.186Z"
   },
   {
    "duration": 9,
    "start_time": "2024-10-11T19:04:14.414Z"
   },
   {
    "duration": 2,
    "start_time": "2024-10-11T19:07:50.288Z"
   },
   {
    "duration": 6,
    "start_time": "2024-10-11T19:08:07.438Z"
   },
   {
    "duration": 3,
    "start_time": "2024-10-11T19:08:20.842Z"
   },
   {
    "duration": 24,
    "start_time": "2024-10-11T19:10:04.532Z"
   },
   {
    "duration": 18,
    "start_time": "2024-10-11T19:15:01.205Z"
   },
   {
    "duration": 67,
    "start_time": "2024-10-11T19:32:30.681Z"
   },
   {
    "duration": 13,
    "start_time": "2024-10-11T19:33:21.911Z"
   },
   {
    "duration": 18,
    "start_time": "2024-10-11T19:34:37.182Z"
   },
   {
    "duration": 19,
    "start_time": "2024-10-11T19:34:47.218Z"
   },
   {
    "duration": 5,
    "start_time": "2024-10-11T19:35:04.943Z"
   },
   {
    "duration": 4,
    "start_time": "2024-10-11T19:36:23.762Z"
   },
   {
    "duration": 5,
    "start_time": "2024-10-11T19:40:10.231Z"
   },
   {
    "duration": 5,
    "start_time": "2024-10-11T19:40:38.780Z"
   },
   {
    "duration": 7,
    "start_time": "2024-10-11T19:41:26.757Z"
   },
   {
    "duration": 20,
    "start_time": "2024-10-11T19:43:34.596Z"
   },
   {
    "duration": 128,
    "start_time": "2024-10-11T19:44:12.455Z"
   },
   {
    "duration": 39,
    "start_time": "2024-10-11T19:44:50.004Z"
   },
   {
    "duration": 35,
    "start_time": "2024-10-11T19:45:06.180Z"
   },
   {
    "duration": 7,
    "start_time": "2024-10-11T19:46:05.958Z"
   },
   {
    "duration": 13,
    "start_time": "2024-10-11T19:47:04.293Z"
   },
   {
    "duration": 13,
    "start_time": "2024-10-11T19:47:18.070Z"
   },
   {
    "duration": 4,
    "start_time": "2024-10-11T19:47:39.941Z"
   },
   {
    "duration": 6,
    "start_time": "2024-10-11T19:48:10.900Z"
   },
   {
    "duration": 6,
    "start_time": "2024-10-11T19:48:12.387Z"
   },
   {
    "duration": 4,
    "start_time": "2024-10-11T19:48:15.010Z"
   },
   {
    "duration": 14,
    "start_time": "2024-10-11T19:48:46.428Z"
   },
   {
    "duration": 18,
    "start_time": "2024-10-11T19:49:00.857Z"
   },
   {
    "duration": 19,
    "start_time": "2024-10-11T19:49:57.994Z"
   },
   {
    "duration": 9,
    "start_time": "2024-10-11T19:50:59.155Z"
   },
   {
    "duration": 5,
    "start_time": "2024-10-11T19:51:05.065Z"
   },
   {
    "duration": 6,
    "start_time": "2024-10-11T19:51:17.717Z"
   },
   {
    "duration": 800,
    "start_time": "2024-10-11T19:52:33.145Z"
   },
   {
    "duration": 222,
    "start_time": "2024-10-11T19:52:33.948Z"
   },
   {
    "duration": 0,
    "start_time": "2024-10-11T19:52:34.172Z"
   },
   {
    "duration": 0,
    "start_time": "2024-10-11T19:52:34.173Z"
   },
   {
    "duration": 0,
    "start_time": "2024-10-11T19:52:34.174Z"
   },
   {
    "duration": 0,
    "start_time": "2024-10-11T19:52:34.176Z"
   },
   {
    "duration": 0,
    "start_time": "2024-10-11T19:52:34.178Z"
   },
   {
    "duration": 0,
    "start_time": "2024-10-11T19:52:34.179Z"
   },
   {
    "duration": 13,
    "start_time": "2024-10-11T19:52:52.726Z"
   },
   {
    "duration": 17,
    "start_time": "2024-10-11T19:53:06.387Z"
   },
   {
    "duration": 6,
    "start_time": "2024-10-11T19:53:11.692Z"
   },
   {
    "duration": 3,
    "start_time": "2024-10-11T19:53:12.564Z"
   },
   {
    "duration": 6,
    "start_time": "2024-10-11T19:53:13.461Z"
   },
   {
    "duration": 11,
    "start_time": "2024-10-11T19:53:17.086Z"
   },
   {
    "duration": 6,
    "start_time": "2024-10-11T19:53:18.485Z"
   },
   {
    "duration": 7,
    "start_time": "2024-10-11T19:53:19.502Z"
   },
   {
    "duration": 17,
    "start_time": "2024-10-11T19:53:20.421Z"
   },
   {
    "duration": 11,
    "start_time": "2024-10-11T19:54:03.558Z"
   },
   {
    "duration": 6,
    "start_time": "2024-10-11T19:56:58.529Z"
   },
   {
    "duration": 2,
    "start_time": "2024-10-11T19:58:03.254Z"
   },
   {
    "duration": 2078,
    "start_time": "2024-10-11T19:58:35.302Z"
   },
   {
    "duration": 179,
    "start_time": "2024-10-11T19:59:44.712Z"
   },
   {
    "duration": 63,
    "start_time": "2024-10-11T19:59:54.937Z"
   },
   {
    "duration": 106,
    "start_time": "2024-10-11T20:00:18.998Z"
   },
   {
    "duration": 165,
    "start_time": "2024-10-11T20:00:41.477Z"
   },
   {
    "duration": 101,
    "start_time": "2024-10-11T20:06:58.557Z"
   },
   {
    "duration": 141,
    "start_time": "2024-10-11T20:08:04.417Z"
   },
   {
    "duration": 166,
    "start_time": "2024-10-11T20:08:24.139Z"
   },
   {
    "duration": 127,
    "start_time": "2024-10-11T20:34:49.570Z"
   },
   {
    "duration": 2,
    "start_time": "2024-10-11T20:35:13.246Z"
   },
   {
    "duration": 33,
    "start_time": "2024-10-11T20:36:14.734Z"
   },
   {
    "duration": 14,
    "start_time": "2024-10-11T20:36:29.579Z"
   },
   {
    "duration": 3,
    "start_time": "2024-10-11T20:36:48.477Z"
   },
   {
    "duration": 3,
    "start_time": "2024-10-11T20:37:29.165Z"
   },
   {
    "duration": 3,
    "start_time": "2024-10-11T20:38:17.230Z"
   },
   {
    "duration": 3,
    "start_time": "2024-10-11T20:38:43.604Z"
   },
   {
    "duration": 18,
    "start_time": "2024-10-11T20:40:04.417Z"
   },
   {
    "duration": 15,
    "start_time": "2024-10-11T20:40:31.393Z"
   },
   {
    "duration": 3,
    "start_time": "2024-10-11T20:40:41.170Z"
   },
   {
    "duration": 3,
    "start_time": "2024-10-11T20:40:43.006Z"
   },
   {
    "duration": 14,
    "start_time": "2024-10-11T20:41:58.846Z"
   },
   {
    "duration": 3,
    "start_time": "2024-10-11T20:43:30.993Z"
   },
   {
    "duration": 397,
    "start_time": "2024-10-11T20:43:51.229Z"
   },
   {
    "duration": 4,
    "start_time": "2024-10-11T20:44:01.522Z"
   },
   {
    "duration": 5,
    "start_time": "2024-10-11T20:44:46.402Z"
   },
   {
    "duration": 4,
    "start_time": "2024-10-11T20:48:08.017Z"
   },
   {
    "duration": 163,
    "start_time": "2024-10-11T20:50:19.090Z"
   },
   {
    "duration": 51,
    "start_time": "2024-10-11T20:50:46.135Z"
   },
   {
    "duration": 47,
    "start_time": "2024-10-11T20:50:53.407Z"
   },
   {
    "duration": 153,
    "start_time": "2024-10-11T20:51:12.594Z"
   },
   {
    "duration": 27,
    "start_time": "2024-10-11T20:51:24.929Z"
   },
   {
    "duration": 85,
    "start_time": "2024-10-11T20:52:28.954Z"
   },
   {
    "duration": 2,
    "start_time": "2024-10-11T20:52:46.114Z"
   },
   {
    "duration": 432,
    "start_time": "2024-10-11T20:53:34.641Z"
   },
   {
    "duration": 18,
    "start_time": "2024-10-11T20:53:53.969Z"
   },
   {
    "duration": 1055,
    "start_time": "2024-10-11T20:55:34.981Z"
   },
   {
    "duration": 18,
    "start_time": "2024-10-11T20:55:36.038Z"
   },
   {
    "duration": 7,
    "start_time": "2024-10-11T20:55:36.058Z"
   },
   {
    "duration": 4,
    "start_time": "2024-10-11T20:55:36.067Z"
   },
   {
    "duration": 6,
    "start_time": "2024-10-11T20:55:36.073Z"
   },
   {
    "duration": 9,
    "start_time": "2024-10-11T20:55:36.081Z"
   },
   {
    "duration": 42,
    "start_time": "2024-10-11T20:55:36.091Z"
   },
   {
    "duration": 6,
    "start_time": "2024-10-11T20:55:36.135Z"
   },
   {
    "duration": 22,
    "start_time": "2024-10-11T20:55:36.143Z"
   },
   {
    "duration": 6,
    "start_time": "2024-10-11T20:55:36.167Z"
   },
   {
    "duration": 134,
    "start_time": "2024-10-11T20:55:36.175Z"
   },
   {
    "duration": 144,
    "start_time": "2024-10-11T20:55:36.311Z"
   },
   {
    "duration": 3,
    "start_time": "2024-10-11T20:55:36.457Z"
   },
   {
    "duration": 3,
    "start_time": "2024-10-11T20:55:36.463Z"
   },
   {
    "duration": 4,
    "start_time": "2024-10-11T20:55:36.468Z"
   },
   {
    "duration": 80,
    "start_time": "2024-10-11T20:55:36.473Z"
   },
   {
    "duration": 94,
    "start_time": "2024-10-11T20:55:36.555Z"
   },
   {
    "duration": 476,
    "start_time": "2024-10-11T20:55:36.651Z"
   },
   {
    "duration": 280,
    "start_time": "2024-10-11T20:56:14.964Z"
   },
   {
    "duration": 20,
    "start_time": "2024-10-11T20:56:26.276Z"
   },
   {
    "duration": 19,
    "start_time": "2024-10-11T20:56:49.028Z"
   },
   {
    "duration": 37,
    "start_time": "2024-10-11T20:56:59.015Z"
   },
   {
    "duration": 27,
    "start_time": "2024-10-11T20:57:03.861Z"
   },
   {
    "duration": 23,
    "start_time": "2024-10-11T20:57:14.571Z"
   },
   {
    "duration": 32,
    "start_time": "2024-10-11T20:57:21.129Z"
   },
   {
    "duration": 18,
    "start_time": "2024-10-11T20:57:23.300Z"
   },
   {
    "duration": 402,
    "start_time": "2024-10-11T20:57:25.355Z"
   },
   {
    "duration": 11,
    "start_time": "2024-10-11T20:58:14.922Z"
   },
   {
    "duration": 8,
    "start_time": "2024-10-11T20:58:28.362Z"
   },
   {
    "duration": 16,
    "start_time": "2024-10-11T20:58:40.617Z"
   },
   {
    "duration": 16,
    "start_time": "2024-10-11T20:58:49.857Z"
   },
   {
    "duration": 15,
    "start_time": "2024-10-11T20:59:00.373Z"
   },
   {
    "duration": 16,
    "start_time": "2024-10-11T20:59:08.184Z"
   },
   {
    "duration": 27,
    "start_time": "2024-10-11T20:59:33.571Z"
   },
   {
    "duration": 28,
    "start_time": "2024-10-11T20:59:41.859Z"
   },
   {
    "duration": 82,
    "start_time": "2024-10-11T20:59:48.855Z"
   },
   {
    "duration": 36,
    "start_time": "2024-10-11T20:59:54.611Z"
   },
   {
    "duration": 33,
    "start_time": "2024-10-11T20:59:59.617Z"
   },
   {
    "duration": 56,
    "start_time": "2024-10-11T21:00:03.784Z"
   },
   {
    "duration": 45,
    "start_time": "2024-10-11T21:00:10.802Z"
   },
   {
    "duration": 45,
    "start_time": "2024-10-11T21:00:12.209Z"
   },
   {
    "duration": 68,
    "start_time": "2024-10-11T21:00:12.771Z"
   },
   {
    "duration": 82,
    "start_time": "2024-10-11T21:00:13.363Z"
   },
   {
    "duration": 20,
    "start_time": "2024-10-11T21:01:10.023Z"
   },
   {
    "duration": 20,
    "start_time": "2024-10-11T21:01:20.325Z"
   },
   {
    "duration": 20,
    "start_time": "2024-10-11T21:01:25.825Z"
   },
   {
    "duration": 34,
    "start_time": "2024-10-11T21:01:36.316Z"
   },
   {
    "duration": 19,
    "start_time": "2024-10-11T21:01:42.194Z"
   },
   {
    "duration": 16,
    "start_time": "2024-10-11T21:01:46.866Z"
   },
   {
    "duration": 19,
    "start_time": "2024-10-11T21:02:20.646Z"
   },
   {
    "duration": 358,
    "start_time": "2024-10-11T21:02:33.865Z"
   },
   {
    "duration": 111,
    "start_time": "2024-10-11T21:08:57.543Z"
   },
   {
    "duration": 421,
    "start_time": "2024-10-11T21:10:02.421Z"
   },
   {
    "duration": 9,
    "start_time": "2024-10-11T21:12:10.870Z"
   },
   {
    "duration": 9,
    "start_time": "2024-10-11T21:13:45.654Z"
   },
   {
    "duration": 3,
    "start_time": "2024-10-11T21:14:03.428Z"
   },
   {
    "duration": 9,
    "start_time": "2024-10-11T21:18:42.582Z"
   },
   {
    "duration": 412,
    "start_time": "2024-10-11T21:19:30.712Z"
   },
   {
    "duration": 46,
    "start_time": "2024-10-11T21:20:06.978Z"
   },
   {
    "duration": 46,
    "start_time": "2024-10-11T21:20:53.075Z"
   },
   {
    "duration": 7,
    "start_time": "2024-10-11T21:21:46.442Z"
   },
   {
    "duration": 10,
    "start_time": "2024-10-11T21:23:01.224Z"
   },
   {
    "duration": 10,
    "start_time": "2024-10-11T21:23:42.381Z"
   },
   {
    "duration": 11,
    "start_time": "2024-10-11T21:23:57.323Z"
   },
   {
    "duration": 10,
    "start_time": "2024-10-11T21:24:07.367Z"
   },
   {
    "duration": 10,
    "start_time": "2024-10-11T21:24:08.285Z"
   },
   {
    "duration": 9,
    "start_time": "2024-10-11T21:24:08.900Z"
   },
   {
    "duration": 10,
    "start_time": "2024-10-11T21:24:09.997Z"
   },
   {
    "duration": 11,
    "start_time": "2024-10-11T21:24:18.775Z"
   },
   {
    "duration": 9,
    "start_time": "2024-10-11T21:24:21.159Z"
   },
   {
    "duration": 11,
    "start_time": "2024-10-11T21:24:34.167Z"
   },
   {
    "duration": 11,
    "start_time": "2024-10-11T21:25:03.068Z"
   },
   {
    "duration": 9,
    "start_time": "2024-10-11T21:25:26.867Z"
   },
   {
    "duration": 12,
    "start_time": "2024-10-11T21:25:29.256Z"
   },
   {
    "duration": 12,
    "start_time": "2024-10-11T21:26:42.845Z"
   },
   {
    "duration": 12,
    "start_time": "2024-10-11T21:27:47.191Z"
   },
   {
    "duration": 13,
    "start_time": "2024-10-11T21:28:05.033Z"
   },
   {
    "duration": 11,
    "start_time": "2024-10-11T21:29:03.735Z"
   },
   {
    "duration": 12,
    "start_time": "2024-10-11T21:29:06.534Z"
   },
   {
    "duration": 12,
    "start_time": "2024-10-11T21:29:15.571Z"
   },
   {
    "duration": 14,
    "start_time": "2024-10-11T21:29:18.710Z"
   },
   {
    "duration": 12,
    "start_time": "2024-10-11T21:29:20.889Z"
   },
   {
    "duration": 10,
    "start_time": "2024-10-11T21:29:44.951Z"
   },
   {
    "duration": 9,
    "start_time": "2024-10-11T21:29:46.470Z"
   },
   {
    "duration": 10,
    "start_time": "2024-10-11T21:29:50.501Z"
   },
   {
    "duration": 11,
    "start_time": "2024-10-11T21:29:52.680Z"
   },
   {
    "duration": 10,
    "start_time": "2024-10-11T21:31:42.190Z"
   },
   {
    "duration": 16,
    "start_time": "2024-10-11T21:32:57.895Z"
   },
   {
    "duration": 12,
    "start_time": "2024-10-11T21:33:19.342Z"
   },
   {
    "duration": 16,
    "start_time": "2024-10-11T21:34:22.635Z"
   },
   {
    "duration": 95,
    "start_time": "2024-10-11T21:34:33.334Z"
   },
   {
    "duration": 26,
    "start_time": "2024-10-11T21:34:46.617Z"
   },
   {
    "duration": 12,
    "start_time": "2024-10-11T21:35:32.304Z"
   },
   {
    "duration": 25,
    "start_time": "2024-10-11T21:35:33.604Z"
   },
   {
    "duration": 11,
    "start_time": "2024-10-11T21:35:34.855Z"
   },
   {
    "duration": 12,
    "start_time": "2024-10-11T21:35:36.177Z"
   },
   {
    "duration": 2663,
    "start_time": "2024-10-12T16:51:33.602Z"
   },
   {
    "duration": 22,
    "start_time": "2024-10-12T16:51:36.268Z"
   },
   {
    "duration": 7,
    "start_time": "2024-10-12T16:51:39.550Z"
   },
   {
    "duration": 269,
    "start_time": "2024-10-12T16:56:20.887Z"
   },
   {
    "duration": 130,
    "start_time": "2024-10-12T16:56:32.433Z"
   },
   {
    "duration": 315,
    "start_time": "2024-10-12T16:58:32.591Z"
   },
   {
    "duration": 309,
    "start_time": "2024-10-12T16:59:04.938Z"
   },
   {
    "duration": 3,
    "start_time": "2024-10-12T16:59:25.004Z"
   },
   {
    "duration": 3,
    "start_time": "2024-10-12T16:59:28.314Z"
   },
   {
    "duration": 11,
    "start_time": "2024-10-12T16:59:31.112Z"
   },
   {
    "duration": 6,
    "start_time": "2024-10-12T16:59:31.991Z"
   },
   {
    "duration": 6,
    "start_time": "2024-10-12T16:59:32.272Z"
   },
   {
    "duration": 4,
    "start_time": "2024-10-12T16:59:32.462Z"
   },
   {
    "duration": 5,
    "start_time": "2024-10-12T16:59:32.666Z"
   },
   {
    "duration": 9,
    "start_time": "2024-10-12T16:59:33.167Z"
   },
   {
    "duration": 6,
    "start_time": "2024-10-12T16:59:33.634Z"
   },
   {
    "duration": 5,
    "start_time": "2024-10-12T16:59:34.118Z"
   },
   {
    "duration": 18,
    "start_time": "2024-10-12T16:59:35.356Z"
   },
   {
    "duration": 303,
    "start_time": "2024-10-12T16:59:36.123Z"
   },
   {
    "duration": 292,
    "start_time": "2024-10-12T17:00:06.720Z"
   },
   {
    "duration": 3,
    "start_time": "2024-10-12T17:01:37.507Z"
   },
   {
    "duration": 17,
    "start_time": "2024-10-12T17:01:37.512Z"
   },
   {
    "duration": 7,
    "start_time": "2024-10-12T17:01:37.531Z"
   },
   {
    "duration": 8,
    "start_time": "2024-10-12T17:01:37.541Z"
   },
   {
    "duration": 4,
    "start_time": "2024-10-12T17:01:37.551Z"
   },
   {
    "duration": 5,
    "start_time": "2024-10-12T17:01:37.556Z"
   },
   {
    "duration": 8,
    "start_time": "2024-10-12T17:01:37.562Z"
   },
   {
    "duration": 5,
    "start_time": "2024-10-12T17:01:37.571Z"
   },
   {
    "duration": 4,
    "start_time": "2024-10-12T17:01:37.578Z"
   },
   {
    "duration": 59,
    "start_time": "2024-10-12T17:01:37.584Z"
   },
   {
    "duration": 307,
    "start_time": "2024-10-12T17:01:37.644Z"
   },
   {
    "duration": 107,
    "start_time": "2024-10-12T17:01:37.953Z"
   },
   {
    "duration": 315,
    "start_time": "2024-10-12T17:01:38.062Z"
   },
   {
    "duration": 3,
    "start_time": "2024-10-12T17:01:38.379Z"
   },
   {
    "duration": 3,
    "start_time": "2024-10-12T17:01:38.384Z"
   },
   {
    "duration": 4,
    "start_time": "2024-10-12T17:01:38.389Z"
   },
   {
    "duration": 948,
    "start_time": "2024-10-12T17:01:57.896Z"
   },
   {
    "duration": 14,
    "start_time": "2024-10-12T17:01:58.845Z"
   },
   {
    "duration": 6,
    "start_time": "2024-10-12T17:01:58.860Z"
   },
   {
    "duration": 6,
    "start_time": "2024-10-12T17:01:58.867Z"
   },
   {
    "duration": 4,
    "start_time": "2024-10-12T17:01:58.876Z"
   },
   {
    "duration": 6,
    "start_time": "2024-10-12T17:01:58.881Z"
   },
   {
    "duration": 39,
    "start_time": "2024-10-12T17:01:58.889Z"
   },
   {
    "duration": 5,
    "start_time": "2024-10-12T17:01:58.929Z"
   },
   {
    "duration": 5,
    "start_time": "2024-10-12T17:01:58.935Z"
   },
   {
    "duration": 17,
    "start_time": "2024-10-12T17:01:58.943Z"
   },
   {
    "duration": 327,
    "start_time": "2024-10-12T17:01:58.962Z"
   },
   {
    "duration": 105,
    "start_time": "2024-10-12T17:01:59.291Z"
   },
   {
    "duration": 311,
    "start_time": "2024-10-12T17:01:59.398Z"
   },
   {
    "duration": 3,
    "start_time": "2024-10-12T17:01:59.712Z"
   },
   {
    "duration": 9,
    "start_time": "2024-10-12T17:01:59.717Z"
   },
   {
    "duration": 3,
    "start_time": "2024-10-12T17:01:59.727Z"
   },
   {
    "duration": 103,
    "start_time": "2024-10-12T17:01:59.732Z"
   },
   {
    "duration": 90,
    "start_time": "2024-10-12T17:01:59.836Z"
   },
   {
    "duration": 380,
    "start_time": "2024-10-12T17:01:59.931Z"
   },
   {
    "duration": 415,
    "start_time": "2024-10-12T17:02:00.312Z"
   },
   {
    "duration": 8,
    "start_time": "2024-10-12T17:02:00.729Z"
   },
   {
    "duration": 11,
    "start_time": "2024-10-12T17:02:00.739Z"
   },
   {
    "duration": 24,
    "start_time": "2024-10-12T17:02:00.752Z"
   },
   {
    "duration": 11,
    "start_time": "2024-10-12T17:02:00.778Z"
   },
   {
    "duration": 41,
    "start_time": "2024-10-12T17:02:00.790Z"
   },
   {
    "duration": 7,
    "start_time": "2024-10-12T17:03:39.349Z"
   },
   {
    "duration": 261,
    "start_time": "2024-10-12T17:07:27.623Z"
   },
   {
    "duration": 204,
    "start_time": "2024-10-12T17:07:42.091Z"
   },
   {
    "duration": 173,
    "start_time": "2024-10-12T17:07:54.380Z"
   },
   {
    "duration": 187,
    "start_time": "2024-10-12T17:08:00.650Z"
   },
   {
    "duration": 173,
    "start_time": "2024-10-12T17:08:02.389Z"
   },
   {
    "duration": 3,
    "start_time": "2024-10-12T17:08:09.361Z"
   },
   {
    "duration": 13,
    "start_time": "2024-10-12T17:08:09.366Z"
   },
   {
    "duration": 5,
    "start_time": "2024-10-12T17:08:09.381Z"
   },
   {
    "duration": 7,
    "start_time": "2024-10-12T17:08:09.388Z"
   },
   {
    "duration": 3,
    "start_time": "2024-10-12T17:08:09.397Z"
   },
   {
    "duration": 5,
    "start_time": "2024-10-12T17:08:09.402Z"
   },
   {
    "duration": 9,
    "start_time": "2024-10-12T17:08:09.409Z"
   },
   {
    "duration": 7,
    "start_time": "2024-10-12T17:08:09.419Z"
   },
   {
    "duration": 4,
    "start_time": "2024-10-12T17:08:09.428Z"
   },
   {
    "duration": 15,
    "start_time": "2024-10-12T17:08:09.434Z"
   },
   {
    "duration": 315,
    "start_time": "2024-10-12T17:08:09.452Z"
   },
   {
    "duration": 105,
    "start_time": "2024-10-12T17:08:09.768Z"
   },
   {
    "duration": 373,
    "start_time": "2024-10-12T17:08:09.874Z"
   },
   {
    "duration": 516,
    "start_time": "2024-10-12T17:08:17.147Z"
   },
   {
    "duration": 3,
    "start_time": "2024-10-12T17:08:31.555Z"
   },
   {
    "duration": 13,
    "start_time": "2024-10-12T17:08:31.561Z"
   },
   {
    "duration": 5,
    "start_time": "2024-10-12T17:08:31.576Z"
   },
   {
    "duration": 5,
    "start_time": "2024-10-12T17:08:31.584Z"
   },
   {
    "duration": 3,
    "start_time": "2024-10-12T17:08:31.590Z"
   },
   {
    "duration": 6,
    "start_time": "2024-10-12T17:08:31.595Z"
   },
   {
    "duration": 8,
    "start_time": "2024-10-12T17:08:31.602Z"
   },
   {
    "duration": 13,
    "start_time": "2024-10-12T17:08:31.612Z"
   },
   {
    "duration": 4,
    "start_time": "2024-10-12T17:08:31.628Z"
   },
   {
    "duration": 18,
    "start_time": "2024-10-12T17:08:31.634Z"
   },
   {
    "duration": 312,
    "start_time": "2024-10-12T17:08:31.653Z"
   },
   {
    "duration": 104,
    "start_time": "2024-10-12T17:08:31.967Z"
   },
   {
    "duration": 242,
    "start_time": "2024-10-12T17:08:32.072Z"
   },
   {
    "duration": 292,
    "start_time": "2024-10-12T17:08:41.645Z"
   },
   {
    "duration": 2803,
    "start_time": "2024-10-14T01:40:43.059Z"
   },
   {
    "duration": 27,
    "start_time": "2024-10-14T01:40:45.864Z"
   },
   {
    "duration": 5,
    "start_time": "2024-10-14T01:40:45.893Z"
   },
   {
    "duration": 12,
    "start_time": "2024-10-14T01:40:45.900Z"
   },
   {
    "duration": 4,
    "start_time": "2024-10-14T01:40:45.913Z"
   },
   {
    "duration": 5,
    "start_time": "2024-10-14T01:40:45.918Z"
   },
   {
    "duration": 8,
    "start_time": "2024-10-14T01:40:45.925Z"
   },
   {
    "duration": 4,
    "start_time": "2024-10-14T01:40:45.935Z"
   },
   {
    "duration": 5,
    "start_time": "2024-10-14T01:40:45.941Z"
   },
   {
    "duration": 19,
    "start_time": "2024-10-14T01:40:45.949Z"
   },
   {
    "duration": 363,
    "start_time": "2024-10-14T01:40:45.969Z"
   },
   {
    "duration": 106,
    "start_time": "2024-10-14T01:40:46.335Z"
   },
   {
    "duration": 301,
    "start_time": "2024-10-14T01:40:46.443Z"
   },
   {
    "duration": 3,
    "start_time": "2024-10-14T01:40:46.746Z"
   },
   {
    "duration": 3,
    "start_time": "2024-10-14T01:40:46.751Z"
   },
   {
    "duration": 4,
    "start_time": "2024-10-14T01:40:46.756Z"
   },
   {
    "duration": 147,
    "start_time": "2024-10-14T01:40:46.761Z"
   },
   {
    "duration": 18,
    "start_time": "2024-10-14T01:40:46.910Z"
   },
   {
    "duration": 450,
    "start_time": "2024-10-14T01:40:46.930Z"
   },
   {
    "duration": 421,
    "start_time": "2024-10-14T01:40:47.382Z"
   },
   {
    "duration": 14,
    "start_time": "2024-10-14T01:40:47.805Z"
   },
   {
    "duration": 3,
    "start_time": "2024-10-14T01:40:55.450Z"
   },
   {
    "duration": 12,
    "start_time": "2024-10-14T01:40:55.835Z"
   },
   {
    "duration": 7,
    "start_time": "2024-10-14T01:40:58.341Z"
   },
   {
    "duration": 7,
    "start_time": "2024-10-14T01:40:58.956Z"
   },
   {
    "duration": 4,
    "start_time": "2024-10-14T01:40:59.125Z"
   },
   {
    "duration": 6,
    "start_time": "2024-10-14T01:40:59.292Z"
   },
   {
    "duration": 10,
    "start_time": "2024-10-14T01:41:00.251Z"
   },
   {
    "duration": 5,
    "start_time": "2024-10-14T01:41:00.627Z"
   },
   {
    "duration": 6,
    "start_time": "2024-10-14T01:41:01.207Z"
   },
   {
    "duration": 20,
    "start_time": "2024-10-14T01:41:01.722Z"
   },
   {
    "duration": 300,
    "start_time": "2024-10-14T01:41:02.250Z"
   },
   {
    "duration": 98,
    "start_time": "2024-10-14T01:41:03.018Z"
   },
   {
    "duration": 294,
    "start_time": "2024-10-14T01:41:03.396Z"
   },
   {
    "duration": 4,
    "start_time": "2024-10-14T01:41:04.155Z"
   },
   {
    "duration": 4,
    "start_time": "2024-10-14T01:41:04.538Z"
   },
   {
    "duration": 5,
    "start_time": "2024-10-14T01:41:04.907Z"
   },
   {
    "duration": 27,
    "start_time": "2024-10-14T01:41:05.719Z"
   },
   {
    "duration": 16,
    "start_time": "2024-10-14T01:41:06.068Z"
   },
   {
    "duration": 354,
    "start_time": "2024-10-14T01:41:06.468Z"
   },
   {
    "duration": 423,
    "start_time": "2024-10-14T01:41:07.269Z"
   },
   {
    "duration": 10,
    "start_time": "2024-10-14T01:41:12.287Z"
   },
   {
    "duration": 92,
    "start_time": "2024-10-14T01:41:14.947Z"
   },
   {
    "duration": 224,
    "start_time": "2024-10-14T01:41:20.668Z"
   },
   {
    "duration": 144,
    "start_time": "2024-10-14T01:41:46.371Z"
   },
   {
    "duration": 12,
    "start_time": "2024-10-14T01:42:00.828Z"
   },
   {
    "duration": 13,
    "start_time": "2024-10-14T01:42:13.149Z"
   },
   {
    "duration": 18,
    "start_time": "2024-10-14T01:45:27.729Z"
   },
   {
    "duration": 19,
    "start_time": "2024-10-14T01:46:12.574Z"
   },
   {
    "duration": 27,
    "start_time": "2024-10-14T01:47:02.016Z"
   },
   {
    "duration": 3,
    "start_time": "2024-10-14T01:47:05.997Z"
   },
   {
    "duration": 1055,
    "start_time": "2024-10-14T01:47:14.090Z"
   },
   {
    "duration": 21,
    "start_time": "2024-10-14T01:47:15.148Z"
   },
   {
    "duration": 6,
    "start_time": "2024-10-14T01:47:15.171Z"
   },
   {
    "duration": 6,
    "start_time": "2024-10-14T01:47:15.180Z"
   },
   {
    "duration": 4,
    "start_time": "2024-10-14T01:47:15.209Z"
   },
   {
    "duration": 8,
    "start_time": "2024-10-14T01:47:15.215Z"
   },
   {
    "duration": 9,
    "start_time": "2024-10-14T01:47:15.225Z"
   },
   {
    "duration": 5,
    "start_time": "2024-10-14T01:47:15.236Z"
   },
   {
    "duration": 5,
    "start_time": "2024-10-14T01:47:15.243Z"
   },
   {
    "duration": 59,
    "start_time": "2024-10-14T01:47:15.250Z"
   },
   {
    "duration": 354,
    "start_time": "2024-10-14T01:47:15.311Z"
   },
   {
    "duration": 127,
    "start_time": "2024-10-14T01:47:15.668Z"
   },
   {
    "duration": 350,
    "start_time": "2024-10-14T01:47:15.797Z"
   },
   {
    "duration": 3,
    "start_time": "2024-10-14T01:47:16.151Z"
   },
   {
    "duration": 4,
    "start_time": "2024-10-14T01:47:16.156Z"
   },
   {
    "duration": 5,
    "start_time": "2024-10-14T01:47:16.161Z"
   },
   {
    "duration": 142,
    "start_time": "2024-10-14T01:47:16.168Z"
   },
   {
    "duration": 18,
    "start_time": "2024-10-14T01:47:16.312Z"
   },
   {
    "duration": 435,
    "start_time": "2024-10-14T01:47:16.331Z"
   },
   {
    "duration": 243,
    "start_time": "2024-10-14T01:47:16.768Z"
   },
   {
    "duration": 0,
    "start_time": "2024-10-14T01:47:17.013Z"
   },
   {
    "duration": 0,
    "start_time": "2024-10-14T01:47:17.015Z"
   },
   {
    "duration": 0,
    "start_time": "2024-10-14T01:47:17.016Z"
   },
   {
    "duration": 0,
    "start_time": "2024-10-14T01:47:17.017Z"
   },
   {
    "duration": 0,
    "start_time": "2024-10-14T01:47:17.018Z"
   },
   {
    "duration": 17,
    "start_time": "2024-10-14T01:47:41.777Z"
   },
   {
    "duration": 410,
    "start_time": "2024-10-14T01:48:23.405Z"
   },
   {
    "duration": 9,
    "start_time": "2024-10-14T01:48:25.867Z"
   },
   {
    "duration": 27,
    "start_time": "2024-10-14T01:48:26.894Z"
   },
   {
    "duration": 12,
    "start_time": "2024-10-14T01:48:27.324Z"
   },
   {
    "duration": 14,
    "start_time": "2024-10-14T01:48:29.915Z"
   },
   {
    "duration": 1079,
    "start_time": "2024-10-14T02:01:57.708Z"
   },
   {
    "duration": 21,
    "start_time": "2024-10-14T02:01:58.790Z"
   },
   {
    "duration": 7,
    "start_time": "2024-10-14T02:01:58.812Z"
   },
   {
    "duration": 6,
    "start_time": "2024-10-14T02:01:58.821Z"
   },
   {
    "duration": 3,
    "start_time": "2024-10-14T02:01:58.829Z"
   },
   {
    "duration": 6,
    "start_time": "2024-10-14T02:01:58.834Z"
   },
   {
    "duration": 9,
    "start_time": "2024-10-14T02:01:58.842Z"
   },
   {
    "duration": 5,
    "start_time": "2024-10-14T02:01:58.852Z"
   },
   {
    "duration": 6,
    "start_time": "2024-10-14T02:01:58.859Z"
   },
   {
    "duration": 60,
    "start_time": "2024-10-14T02:01:58.867Z"
   },
   {
    "duration": 322,
    "start_time": "2024-10-14T02:01:58.931Z"
   },
   {
    "duration": 106,
    "start_time": "2024-10-14T02:01:59.255Z"
   },
   {
    "duration": 301,
    "start_time": "2024-10-14T02:01:59.365Z"
   },
   {
    "duration": 4,
    "start_time": "2024-10-14T02:01:59.670Z"
   },
   {
    "duration": 4,
    "start_time": "2024-10-14T02:01:59.676Z"
   },
   {
    "duration": 3,
    "start_time": "2024-10-14T02:01:59.682Z"
   },
   {
    "duration": 128,
    "start_time": "2024-10-14T02:01:59.687Z"
   },
   {
    "duration": 92,
    "start_time": "2024-10-14T02:01:59.817Z"
   },
   {
    "duration": 369,
    "start_time": "2024-10-14T02:01:59.911Z"
   },
   {
    "duration": 415,
    "start_time": "2024-10-14T02:02:00.281Z"
   },
   {
    "duration": 16,
    "start_time": "2024-10-14T02:02:00.698Z"
   },
   {
    "duration": 24,
    "start_time": "2024-10-14T02:02:00.716Z"
   },
   {
    "duration": 11,
    "start_time": "2024-10-14T02:02:00.742Z"
   },
   {
    "duration": 14,
    "start_time": "2024-10-14T02:02:00.754Z"
   },
   {
    "duration": 3012,
    "start_time": "2024-10-14T17:04:59.845Z"
   },
   {
    "duration": 23,
    "start_time": "2024-10-14T17:05:02.860Z"
   },
   {
    "duration": 7,
    "start_time": "2024-10-14T17:05:02.885Z"
   },
   {
    "duration": 7,
    "start_time": "2024-10-14T17:05:02.894Z"
   },
   {
    "duration": 4,
    "start_time": "2024-10-14T17:05:02.903Z"
   },
   {
    "duration": 29,
    "start_time": "2024-10-14T17:05:02.909Z"
   },
   {
    "duration": 12,
    "start_time": "2024-10-14T17:05:02.940Z"
   },
   {
    "duration": 6,
    "start_time": "2024-10-14T17:05:02.954Z"
   },
   {
    "duration": 7,
    "start_time": "2024-10-14T17:05:02.962Z"
   },
   {
    "duration": 23,
    "start_time": "2024-10-14T17:05:02.971Z"
   },
   {
    "duration": 328,
    "start_time": "2024-10-14T17:05:03.031Z"
   },
   {
    "duration": 111,
    "start_time": "2024-10-14T17:05:03.361Z"
   },
   {
    "duration": 418,
    "start_time": "2024-10-14T17:05:03.476Z"
   },
   {
    "duration": 4,
    "start_time": "2024-10-14T17:05:03.898Z"
   },
   {
    "duration": 4,
    "start_time": "2024-10-14T17:05:03.904Z"
   },
   {
    "duration": 23,
    "start_time": "2024-10-14T17:05:03.910Z"
   },
   {
    "duration": 122,
    "start_time": "2024-10-14T17:05:03.937Z"
   },
   {
    "duration": 93,
    "start_time": "2024-10-14T17:05:04.063Z"
   },
   {
    "duration": 420,
    "start_time": "2024-10-14T17:05:04.158Z"
   },
   {
    "duration": 242,
    "start_time": "2024-10-14T17:05:12.107Z"
   },
   {
    "duration": 17,
    "start_time": "2024-10-14T17:29:53.095Z"
   },
   {
    "duration": 17,
    "start_time": "2024-10-14T17:30:53.688Z"
   },
   {
    "duration": 16,
    "start_time": "2024-10-14T17:31:07.922Z"
   },
   {
    "duration": 20,
    "start_time": "2024-10-14T17:31:08.232Z"
   },
   {
    "duration": 6,
    "start_time": "2024-10-14T17:31:09.167Z"
   },
   {
    "duration": 6,
    "start_time": "2024-10-14T17:31:09.485Z"
   },
   {
    "duration": 4,
    "start_time": "2024-10-14T17:31:09.621Z"
   },
   {
    "duration": 7,
    "start_time": "2024-10-14T17:31:09.798Z"
   },
   {
    "duration": 9,
    "start_time": "2024-10-14T17:31:10.466Z"
   },
   {
    "duration": 7,
    "start_time": "2024-10-14T17:31:10.792Z"
   },
   {
    "duration": 6,
    "start_time": "2024-10-14T17:31:11.288Z"
   },
   {
    "duration": 19,
    "start_time": "2024-10-14T17:31:11.838Z"
   },
   {
    "duration": 15,
    "start_time": "2024-10-14T17:31:12.510Z"
   },
   {
    "duration": 14,
    "start_time": "2024-10-14T17:31:13.256Z"
   },
   {
    "duration": 14,
    "start_time": "2024-10-14T17:31:13.609Z"
   },
   {
    "duration": 4,
    "start_time": "2024-10-14T17:31:14.313Z"
   },
   {
    "duration": 4,
    "start_time": "2024-10-14T17:31:14.673Z"
   },
   {
    "duration": 4,
    "start_time": "2024-10-14T17:31:15.029Z"
   },
   {
    "duration": 13,
    "start_time": "2024-10-14T17:31:15.769Z"
   },
   {
    "duration": 14,
    "start_time": "2024-10-14T17:31:16.094Z"
   },
   {
    "duration": 13,
    "start_time": "2024-10-14T17:31:16.455Z"
   },
   {
    "duration": 187,
    "start_time": "2024-10-14T17:31:17.014Z"
   },
   {
    "duration": 80,
    "start_time": "2024-10-14T17:31:17.454Z"
   },
   {
    "duration": 10,
    "start_time": "2024-10-14T17:31:18.506Z"
   },
   {
    "duration": 25,
    "start_time": "2024-10-14T17:31:18.896Z"
   },
   {
    "duration": 13,
    "start_time": "2024-10-14T17:31:19.079Z"
   },
   {
    "duration": 13,
    "start_time": "2024-10-14T17:31:19.258Z"
   },
   {
    "duration": 14,
    "start_time": "2024-10-14T17:33:20.160Z"
   },
   {
    "duration": 15,
    "start_time": "2024-10-14T17:33:29.619Z"
   },
   {
    "duration": 1085,
    "start_time": "2024-10-14T17:33:58.947Z"
   },
   {
    "duration": 22,
    "start_time": "2024-10-14T17:35:09.471Z"
   },
   {
    "duration": 20,
    "start_time": "2024-10-14T17:47:12.665Z"
   },
   {
    "duration": 4229,
    "start_time": "2024-10-14T17:50:05.541Z"
   },
   {
    "duration": 4224,
    "start_time": "2024-10-14T17:52:17.099Z"
   },
   {
    "duration": 4188,
    "start_time": "2024-10-14T17:53:58.793Z"
   },
   {
    "duration": 19,
    "start_time": "2024-10-14T18:02:09.616Z"
   },
   {
    "duration": 17,
    "start_time": "2024-10-14T18:02:19.172Z"
   },
   {
    "duration": 14,
    "start_time": "2024-10-14T18:02:30.754Z"
   },
   {
    "duration": 21,
    "start_time": "2024-10-14T18:02:31.084Z"
   },
   {
    "duration": 7,
    "start_time": "2024-10-14T18:02:34.770Z"
   },
   {
    "duration": 7,
    "start_time": "2024-10-14T18:02:36.436Z"
   },
   {
    "duration": 4,
    "start_time": "2024-10-14T18:02:37.198Z"
   },
   {
    "duration": 12,
    "start_time": "2024-10-14T18:02:39.051Z"
   },
   {
    "duration": 10,
    "start_time": "2024-10-14T18:02:43.624Z"
   },
   {
    "duration": 6,
    "start_time": "2024-10-14T18:02:44.997Z"
   },
   {
    "duration": 6,
    "start_time": "2024-10-14T18:02:47.388Z"
   },
   {
    "duration": 21,
    "start_time": "2024-10-14T18:02:49.941Z"
   },
   {
    "duration": 15,
    "start_time": "2024-10-14T18:02:53.531Z"
   },
   {
    "duration": 19,
    "start_time": "2024-10-14T18:03:18.566Z"
   },
   {
    "duration": 964,
    "start_time": "2024-10-14T18:03:46.111Z"
   },
   {
    "duration": 0,
    "start_time": "2024-10-14T18:03:47.077Z"
   },
   {
    "duration": 0,
    "start_time": "2024-10-14T18:03:47.079Z"
   },
   {
    "duration": 0,
    "start_time": "2024-10-14T18:03:47.081Z"
   },
   {
    "duration": 0,
    "start_time": "2024-10-14T18:03:47.082Z"
   },
   {
    "duration": 0,
    "start_time": "2024-10-14T18:03:47.083Z"
   },
   {
    "duration": 0,
    "start_time": "2024-10-14T18:03:47.085Z"
   },
   {
    "duration": 0,
    "start_time": "2024-10-14T18:03:47.086Z"
   },
   {
    "duration": 0,
    "start_time": "2024-10-14T18:03:47.088Z"
   },
   {
    "duration": 0,
    "start_time": "2024-10-14T18:03:47.089Z"
   },
   {
    "duration": 0,
    "start_time": "2024-10-14T18:03:47.091Z"
   },
   {
    "duration": 0,
    "start_time": "2024-10-14T18:03:47.092Z"
   },
   {
    "duration": 0,
    "start_time": "2024-10-14T18:03:47.094Z"
   },
   {
    "duration": 0,
    "start_time": "2024-10-14T18:03:47.095Z"
   },
   {
    "duration": 0,
    "start_time": "2024-10-14T18:03:47.097Z"
   },
   {
    "duration": 0,
    "start_time": "2024-10-14T18:03:47.098Z"
   },
   {
    "duration": 0,
    "start_time": "2024-10-14T18:03:47.099Z"
   },
   {
    "duration": 0,
    "start_time": "2024-10-14T18:03:47.101Z"
   },
   {
    "duration": 0,
    "start_time": "2024-10-14T18:03:47.131Z"
   },
   {
    "duration": 0,
    "start_time": "2024-10-14T18:03:47.133Z"
   },
   {
    "duration": 0,
    "start_time": "2024-10-14T18:03:47.134Z"
   },
   {
    "duration": 0,
    "start_time": "2024-10-14T18:03:47.135Z"
   },
   {
    "duration": 0,
    "start_time": "2024-10-14T18:03:47.137Z"
   },
   {
    "duration": 0,
    "start_time": "2024-10-14T18:03:47.138Z"
   },
   {
    "duration": 0,
    "start_time": "2024-10-14T18:03:47.140Z"
   },
   {
    "duration": 16,
    "start_time": "2024-10-14T18:03:57.907Z"
   },
   {
    "duration": 14,
    "start_time": "2024-10-14T18:04:22.878Z"
   },
   {
    "duration": 16,
    "start_time": "2024-10-14T18:05:21.712Z"
   },
   {
    "duration": 318,
    "start_time": "2024-10-14T18:05:59.188Z"
   },
   {
    "duration": 1056,
    "start_time": "2024-10-14T18:06:07.618Z"
   },
   {
    "duration": 18,
    "start_time": "2024-10-14T18:06:08.677Z"
   },
   {
    "duration": 6,
    "start_time": "2024-10-14T18:06:08.697Z"
   },
   {
    "duration": 7,
    "start_time": "2024-10-14T18:06:08.705Z"
   },
   {
    "duration": 4,
    "start_time": "2024-10-14T18:06:08.732Z"
   },
   {
    "duration": 6,
    "start_time": "2024-10-14T18:06:08.739Z"
   },
   {
    "duration": 10,
    "start_time": "2024-10-14T18:06:08.748Z"
   },
   {
    "duration": 6,
    "start_time": "2024-10-14T18:06:08.762Z"
   },
   {
    "duration": 5,
    "start_time": "2024-10-14T18:06:08.769Z"
   },
   {
    "duration": 54,
    "start_time": "2024-10-14T18:06:08.777Z"
   },
   {
    "duration": 323,
    "start_time": "2024-10-14T18:06:08.834Z"
   },
   {
    "duration": 124,
    "start_time": "2024-10-14T18:06:09.159Z"
   },
   {
    "duration": 321,
    "start_time": "2024-10-14T18:06:09.286Z"
   },
   {
    "duration": 4,
    "start_time": "2024-10-14T18:06:09.611Z"
   },
   {
    "duration": 3,
    "start_time": "2024-10-14T18:06:09.617Z"
   },
   {
    "duration": 4,
    "start_time": "2024-10-14T18:06:09.632Z"
   },
   {
    "duration": 105,
    "start_time": "2024-10-14T18:06:09.638Z"
   },
   {
    "duration": 91,
    "start_time": "2024-10-14T18:06:09.745Z"
   },
   {
    "duration": 389,
    "start_time": "2024-10-14T18:06:09.838Z"
   },
   {
    "duration": 4231,
    "start_time": "2024-10-14T18:06:10.231Z"
   },
   {
    "duration": 287,
    "start_time": "2024-10-14T18:06:14.465Z"
   },
   {
    "duration": 0,
    "start_time": "2024-10-14T18:06:14.754Z"
   },
   {
    "duration": 0,
    "start_time": "2024-10-14T18:06:14.755Z"
   },
   {
    "duration": 0,
    "start_time": "2024-10-14T18:06:14.756Z"
   },
   {
    "duration": 0,
    "start_time": "2024-10-14T18:06:14.758Z"
   },
   {
    "duration": 3,
    "start_time": "2024-10-14T18:06:24.632Z"
   },
   {
    "duration": 13,
    "start_time": "2024-10-14T18:06:26.422Z"
   },
   {
    "duration": 6,
    "start_time": "2024-10-14T18:06:28.897Z"
   },
   {
    "duration": 7,
    "start_time": "2024-10-14T18:06:30.519Z"
   },
   {
    "duration": 4,
    "start_time": "2024-10-14T18:06:30.981Z"
   },
   {
    "duration": 5,
    "start_time": "2024-10-14T18:06:31.800Z"
   },
   {
    "duration": 9,
    "start_time": "2024-10-14T18:06:33.885Z"
   },
   {
    "duration": 5,
    "start_time": "2024-10-14T18:06:34.770Z"
   },
   {
    "duration": 6,
    "start_time": "2024-10-14T18:06:36.190Z"
   },
   {
    "duration": 22,
    "start_time": "2024-10-14T18:06:38.285Z"
   },
   {
    "duration": 312,
    "start_time": "2024-10-14T18:06:40.222Z"
   },
   {
    "duration": 184,
    "start_time": "2024-10-14T18:06:42.471Z"
   },
   {
    "duration": 301,
    "start_time": "2024-10-14T18:06:43.237Z"
   },
   {
    "duration": 3,
    "start_time": "2024-10-14T18:06:47.470Z"
   },
   {
    "duration": 4,
    "start_time": "2024-10-14T18:06:48.959Z"
   },
   {
    "duration": 3,
    "start_time": "2024-10-14T18:06:51.538Z"
   },
   {
    "duration": 263,
    "start_time": "2024-10-14T18:07:53.722Z"
   },
   {
    "duration": 213,
    "start_time": "2024-10-14T18:08:19.959Z"
   },
   {
    "duration": 45,
    "start_time": "2024-10-14T18:08:49.592Z"
   },
   {
    "duration": 37,
    "start_time": "2024-10-14T18:08:53.402Z"
   },
   {
    "duration": 36,
    "start_time": "2024-10-14T18:09:39.902Z"
   },
   {
    "duration": 29,
    "start_time": "2024-10-14T18:09:41.022Z"
   },
   {
    "duration": 3795,
    "start_time": "2024-10-14T18:18:08.345Z"
   },
   {
    "duration": 4,
    "start_time": "2024-10-14T18:18:31.772Z"
   },
   {
    "duration": 15,
    "start_time": "2024-10-14T18:18:35.246Z"
   },
   {
    "duration": 6,
    "start_time": "2024-10-14T18:18:37.623Z"
   },
   {
    "duration": 7,
    "start_time": "2024-10-14T18:18:38.242Z"
   },
   {
    "duration": 4,
    "start_time": "2024-10-14T18:18:38.591Z"
   },
   {
    "duration": 5,
    "start_time": "2024-10-14T18:18:38.785Z"
   },
   {
    "duration": 8,
    "start_time": "2024-10-14T18:18:40.466Z"
   },
   {
    "duration": 5,
    "start_time": "2024-10-14T18:18:41.161Z"
   },
   {
    "duration": 5,
    "start_time": "2024-10-14T18:18:42.634Z"
   },
   {
    "duration": 18,
    "start_time": "2024-10-14T18:18:44.292Z"
   },
   {
    "duration": 350,
    "start_time": "2024-10-14T18:18:47.820Z"
   },
   {
    "duration": 107,
    "start_time": "2024-10-14T18:18:48.658Z"
   },
   {
    "duration": 350,
    "start_time": "2024-10-14T18:18:49.241Z"
   },
   {
    "duration": 4,
    "start_time": "2024-10-14T18:18:54.127Z"
   },
   {
    "duration": 3,
    "start_time": "2024-10-14T18:18:54.991Z"
   },
   {
    "duration": 4,
    "start_time": "2024-10-14T18:18:55.841Z"
   },
   {
    "duration": 130,
    "start_time": "2024-10-14T18:18:57.907Z"
   },
   {
    "duration": 95,
    "start_time": "2024-10-14T18:18:58.650Z"
   },
   {
    "duration": 15,
    "start_time": "2024-10-14T18:19:00.607Z"
   },
   {
    "duration": 60,
    "start_time": "2024-10-14T18:19:20.872Z"
   },
   {
    "duration": 29,
    "start_time": "2024-10-14T18:19:22.711Z"
   },
   {
    "duration": 35,
    "start_time": "2024-10-14T18:19:41.387Z"
   },
   {
    "duration": 47,
    "start_time": "2024-10-14T18:19:47.193Z"
   },
   {
    "duration": 34,
    "start_time": "2024-10-14T18:19:48.524Z"
   },
   {
    "duration": 93,
    "start_time": "2024-10-14T18:19:53.037Z"
   },
   {
    "duration": 37,
    "start_time": "2024-10-14T18:19:58.991Z"
   },
   {
    "duration": 55,
    "start_time": "2024-10-14T18:20:02.982Z"
   },
   {
    "duration": 36,
    "start_time": "2024-10-14T18:20:12.014Z"
   },
   {
    "duration": 3,
    "start_time": "2024-10-14T18:20:39.930Z"
   },
   {
    "duration": 33,
    "start_time": "2024-10-14T18:21:13.407Z"
   },
   {
    "duration": 32,
    "start_time": "2024-10-14T18:21:22.623Z"
   },
   {
    "duration": 72,
    "start_time": "2024-10-14T18:21:24.660Z"
   },
   {
    "duration": 3693,
    "start_time": "2024-10-14T18:23:49.138Z"
   },
   {
    "duration": 2,
    "start_time": "2024-10-14T18:25:18.460Z"
   },
   {
    "duration": 14,
    "start_time": "2024-10-14T18:25:29.056Z"
   },
   {
    "duration": 16,
    "start_time": "2024-10-14T18:25:39.725Z"
   },
   {
    "duration": 21,
    "start_time": "2024-10-14T18:25:48.154Z"
   },
   {
    "duration": 3735,
    "start_time": "2024-10-14T18:26:35.207Z"
   },
   {
    "duration": 3767,
    "start_time": "2024-10-14T18:27:46.801Z"
   },
   {
    "duration": 35,
    "start_time": "2024-10-14T18:28:13.659Z"
   },
   {
    "duration": 33,
    "start_time": "2024-10-14T18:28:38.532Z"
   },
   {
    "duration": 10,
    "start_time": "2024-10-14T18:28:46.584Z"
   },
   {
    "duration": 25,
    "start_time": "2024-10-14T18:28:46.595Z"
   },
   {
    "duration": 178,
    "start_time": "2024-10-14T18:28:46.621Z"
   },
   {
    "duration": 0,
    "start_time": "2024-10-14T18:28:46.801Z"
   },
   {
    "duration": 3,
    "start_time": "2024-10-14T18:29:01.400Z"
   },
   {
    "duration": 14,
    "start_time": "2024-10-14T18:29:01.707Z"
   },
   {
    "duration": 7,
    "start_time": "2024-10-14T18:29:02.628Z"
   },
   {
    "duration": 6,
    "start_time": "2024-10-14T18:29:02.946Z"
   },
   {
    "duration": 4,
    "start_time": "2024-10-14T18:29:03.113Z"
   },
   {
    "duration": 5,
    "start_time": "2024-10-14T18:29:03.289Z"
   },
   {
    "duration": 9,
    "start_time": "2024-10-14T18:29:03.897Z"
   },
   {
    "duration": 5,
    "start_time": "2024-10-14T18:29:04.228Z"
   },
   {
    "duration": 7,
    "start_time": "2024-10-14T18:29:04.716Z"
   },
   {
    "duration": 20,
    "start_time": "2024-10-14T18:29:05.418Z"
   },
   {
    "duration": 303,
    "start_time": "2024-10-14T18:29:05.984Z"
   },
   {
    "duration": 98,
    "start_time": "2024-10-14T18:29:06.766Z"
   },
   {
    "duration": 313,
    "start_time": "2024-10-14T18:29:07.609Z"
   },
   {
    "duration": 6,
    "start_time": "2024-10-14T18:29:08.424Z"
   },
   {
    "duration": 4,
    "start_time": "2024-10-14T18:29:08.798Z"
   },
   {
    "duration": 3,
    "start_time": "2024-10-14T18:29:09.229Z"
   },
   {
    "duration": 77,
    "start_time": "2024-10-14T18:29:10.579Z"
   },
   {
    "duration": 27,
    "start_time": "2024-10-14T18:29:12.138Z"
   },
   {
    "duration": 3,
    "start_time": "2024-10-14T18:30:54.153Z"
   },
   {
    "duration": 13,
    "start_time": "2024-10-14T18:32:07.836Z"
   },
   {
    "duration": 11,
    "start_time": "2024-10-14T18:32:14.380Z"
   },
   {
    "duration": 9,
    "start_time": "2024-10-14T18:32:21.259Z"
   },
   {
    "duration": 13,
    "start_time": "2024-10-14T18:32:27.165Z"
   },
   {
    "duration": 9,
    "start_time": "2024-10-14T18:32:31.835Z"
   },
   {
    "duration": 9,
    "start_time": "2024-10-14T18:32:44.094Z"
   },
   {
    "duration": 9,
    "start_time": "2024-10-14T18:32:50.080Z"
   },
   {
    "duration": 10,
    "start_time": "2024-10-14T18:32:54.638Z"
   },
   {
    "duration": 12,
    "start_time": "2024-10-14T18:33:01.965Z"
   },
   {
    "duration": 11,
    "start_time": "2024-10-14T18:33:07.020Z"
   },
   {
    "duration": 2,
    "start_time": "2024-10-14T18:34:25.947Z"
   },
   {
    "duration": 2,
    "start_time": "2024-10-14T18:34:40.221Z"
   },
   {
    "duration": 3,
    "start_time": "2024-10-14T18:34:46.885Z"
   },
   {
    "duration": 373,
    "start_time": "2024-10-14T18:34:47.875Z"
   },
   {
    "duration": 4,
    "start_time": "2024-10-14T18:34:49.546Z"
   },
   {
    "duration": 357,
    "start_time": "2024-10-14T18:36:38.254Z"
   },
   {
    "duration": 376,
    "start_time": "2024-10-14T18:36:49.635Z"
   },
   {
    "duration": 351,
    "start_time": "2024-10-14T18:36:56.619Z"
   },
   {
    "duration": 367,
    "start_time": "2024-10-14T18:37:03.986Z"
   },
   {
    "duration": 366,
    "start_time": "2024-10-14T18:37:10.268Z"
   },
   {
    "duration": 358,
    "start_time": "2024-10-14T18:37:25.950Z"
   },
   {
    "duration": 371,
    "start_time": "2024-10-14T18:37:32.683Z"
   },
   {
    "duration": 385,
    "start_time": "2024-10-14T18:37:36.825Z"
   },
   {
    "duration": 362,
    "start_time": "2024-10-14T18:37:46.652Z"
   },
   {
    "duration": 350,
    "start_time": "2024-10-14T18:37:52.252Z"
   },
   {
    "duration": 415,
    "start_time": "2024-10-14T18:37:58.752Z"
   },
   {
    "duration": 100,
    "start_time": "2024-10-14T18:38:11.629Z"
   },
   {
    "duration": 310,
    "start_time": "2024-10-14T18:38:15.868Z"
   },
   {
    "duration": 331,
    "start_time": "2024-10-14T18:38:24.636Z"
   },
   {
    "duration": 341,
    "start_time": "2024-10-14T18:38:31.182Z"
   },
   {
    "duration": 2,
    "start_time": "2024-10-14T18:38:56.320Z"
   },
   {
    "duration": 408,
    "start_time": "2024-10-14T18:39:10.636Z"
   },
   {
    "duration": 10,
    "start_time": "2024-10-14T18:39:16.399Z"
   },
   {
    "duration": 33,
    "start_time": "2024-10-14T18:39:17.656Z"
   },
   {
    "duration": 12,
    "start_time": "2024-10-14T18:39:18.486Z"
   },
   {
    "duration": 29,
    "start_time": "2024-10-14T18:40:29.571Z"
   },
   {
    "duration": 16,
    "start_time": "2024-10-14T18:40:31.291Z"
   },
   {
    "duration": 10,
    "start_time": "2024-10-14T18:40:32.261Z"
   },
   {
    "duration": 365,
    "start_time": "2024-10-14T18:40:33.491Z"
   },
   {
    "duration": 354,
    "start_time": "2024-10-14T18:40:33.858Z"
   },
   {
    "duration": 423,
    "start_time": "2024-10-14T18:40:35.608Z"
   },
   {
    "duration": 12,
    "start_time": "2024-10-14T18:40:36.981Z"
   },
   {
    "duration": 26,
    "start_time": "2024-10-14T18:40:37.536Z"
   },
   {
    "duration": 11,
    "start_time": "2024-10-14T18:40:37.718Z"
   },
   {
    "duration": 13,
    "start_time": "2024-10-14T18:40:37.884Z"
   },
   {
    "duration": 3026,
    "start_time": "2024-10-14T23:06:33.002Z"
   },
   {
    "duration": 25,
    "start_time": "2024-10-14T23:06:36.034Z"
   },
   {
    "duration": 6,
    "start_time": "2024-10-14T23:06:36.061Z"
   },
   {
    "duration": 6,
    "start_time": "2024-10-14T23:06:36.069Z"
   },
   {
    "duration": 3,
    "start_time": "2024-10-14T23:06:36.077Z"
   },
   {
    "duration": 6,
    "start_time": "2024-10-14T23:06:36.082Z"
   },
   {
    "duration": 9,
    "start_time": "2024-10-14T23:06:36.089Z"
   },
   {
    "duration": 30,
    "start_time": "2024-10-14T23:06:36.100Z"
   },
   {
    "duration": 6,
    "start_time": "2024-10-14T23:06:36.132Z"
   },
   {
    "duration": 17,
    "start_time": "2024-10-14T23:06:36.141Z"
   },
   {
    "duration": 318,
    "start_time": "2024-10-14T23:06:36.160Z"
   },
   {
    "duration": 123,
    "start_time": "2024-10-14T23:06:36.480Z"
   },
   {
    "duration": 374,
    "start_time": "2024-10-14T23:06:36.605Z"
   },
   {
    "duration": 3,
    "start_time": "2024-10-14T23:06:36.981Z"
   },
   {
    "duration": 3,
    "start_time": "2024-10-14T23:06:42.246Z"
   },
   {
    "duration": 402,
    "start_time": "2024-10-14T23:08:59.436Z"
   },
   {
    "duration": 3,
    "start_time": "2024-10-14T23:09:40.445Z"
   },
   {
    "duration": 13,
    "start_time": "2024-10-14T23:09:40.929Z"
   },
   {
    "duration": 6,
    "start_time": "2024-10-14T23:09:41.870Z"
   },
   {
    "duration": 7,
    "start_time": "2024-10-14T23:09:42.231Z"
   },
   {
    "duration": 4,
    "start_time": "2024-10-14T23:09:42.871Z"
   },
   {
    "duration": 5,
    "start_time": "2024-10-14T23:09:43.438Z"
   },
   {
    "duration": 9,
    "start_time": "2024-10-14T23:09:45.222Z"
   },
   {
    "duration": 6,
    "start_time": "2024-10-14T23:09:45.886Z"
   },
   {
    "duration": 5,
    "start_time": "2024-10-14T23:09:47.478Z"
   },
   {
    "duration": 18,
    "start_time": "2024-10-14T23:09:48.962Z"
   },
   {
    "duration": 326,
    "start_time": "2024-10-14T23:09:50.838Z"
   },
   {
    "duration": 103,
    "start_time": "2024-10-14T23:09:55.054Z"
   },
   {
    "duration": 342,
    "start_time": "2024-10-14T23:09:57.006Z"
   },
   {
    "duration": 16,
    "start_time": "2024-10-14T23:09:59.114Z"
   },
   {
    "duration": 4,
    "start_time": "2024-10-14T23:09:59.560Z"
   },
   {
    "duration": 4,
    "start_time": "2024-10-14T23:09:59.929Z"
   },
   {
    "duration": 27,
    "start_time": "2024-10-14T23:10:00.725Z"
   },
   {
    "duration": 16,
    "start_time": "2024-10-14T23:10:02.887Z"
   },
   {
    "duration": 11,
    "start_time": "2024-10-14T23:10:03.533Z"
   },
   {
    "duration": 415,
    "start_time": "2024-10-14T23:10:04.355Z"
   },
   {
    "duration": 400,
    "start_time": "2024-10-14T23:10:05.358Z"
   },
   {
    "duration": 478,
    "start_time": "2024-10-14T23:10:07.086Z"
   },
   {
    "duration": 17,
    "start_time": "2024-10-14T23:10:08.326Z"
   },
   {
    "duration": 28,
    "start_time": "2024-10-14T23:10:09.017Z"
   },
   {
    "duration": 11,
    "start_time": "2024-10-14T23:10:09.236Z"
   },
   {
    "duration": 13,
    "start_time": "2024-10-14T23:10:09.947Z"
   },
   {
    "duration": 17,
    "start_time": "2024-10-14T23:12:48.577Z"
   },
   {
    "duration": 71,
    "start_time": "2024-10-14T23:15:46.146Z"
   },
   {
    "duration": 28,
    "start_time": "2024-10-14T23:16:53.400Z"
   },
   {
    "duration": 5,
    "start_time": "2024-10-14T23:18:13.297Z"
   },
   {
    "duration": 72,
    "start_time": "2024-10-14T23:19:20.962Z"
   },
   {
    "duration": 66,
    "start_time": "2024-10-14T23:19:57.417Z"
   },
   {
    "duration": 75,
    "start_time": "2024-10-14T23:20:12.006Z"
   },
   {
    "duration": 66,
    "start_time": "2024-10-14T23:20:36.979Z"
   },
   {
    "duration": 77,
    "start_time": "2024-10-14T23:20:58.714Z"
   },
   {
    "duration": 68,
    "start_time": "2024-10-14T23:22:27.985Z"
   },
   {
    "duration": 66,
    "start_time": "2024-10-14T23:22:47.635Z"
   },
   {
    "duration": 69,
    "start_time": "2024-10-14T23:23:07.569Z"
   },
   {
    "duration": 94,
    "start_time": "2024-10-14T23:23:29.876Z"
   },
   {
    "duration": 3,
    "start_time": "2024-10-14T23:23:35.542Z"
   },
   {
    "duration": 69,
    "start_time": "2024-10-14T23:23:48.005Z"
   },
   {
    "duration": 64,
    "start_time": "2024-10-14T23:24:20.932Z"
   },
   {
    "duration": 73,
    "start_time": "2024-10-14T23:24:51.021Z"
   },
   {
    "duration": 4,
    "start_time": "2024-10-14T23:28:10.787Z"
   },
   {
    "duration": 6,
    "start_time": "2024-10-14T23:28:32.936Z"
   },
   {
    "duration": 5,
    "start_time": "2024-10-14T23:28:57.638Z"
   },
   {
    "duration": 4,
    "start_time": "2024-10-14T23:29:11.277Z"
   },
   {
    "duration": 5,
    "start_time": "2024-10-14T23:29:46.826Z"
   },
   {
    "duration": 71,
    "start_time": "2024-10-14T23:29:54.005Z"
   },
   {
    "duration": 5,
    "start_time": "2024-10-14T23:33:47.572Z"
   },
   {
    "duration": 26,
    "start_time": "2024-10-14T23:34:01.875Z"
   },
   {
    "duration": 263,
    "start_time": "2024-10-14T23:35:15.012Z"
   },
   {
    "duration": 842,
    "start_time": "2024-10-14T23:35:59.350Z"
   },
   {
    "duration": 895,
    "start_time": "2024-10-14T23:36:43.130Z"
   },
   {
    "duration": 854,
    "start_time": "2024-10-14T23:36:49.645Z"
   },
   {
    "duration": 15,
    "start_time": "2024-10-14T23:38:42.878Z"
   },
   {
    "duration": 48,
    "start_time": "2024-10-14T23:40:43.547Z"
   },
   {
    "duration": 52,
    "start_time": "2024-10-14T23:40:57.846Z"
   },
   {
    "duration": 72,
    "start_time": "2024-10-14T23:42:13.093Z"
   },
   {
    "duration": 54,
    "start_time": "2024-10-14T23:42:55.486Z"
   },
   {
    "duration": 17,
    "start_time": "2024-10-14T23:43:02.776Z"
   },
   {
    "duration": 53,
    "start_time": "2024-10-14T23:43:34.247Z"
   },
   {
    "duration": 55,
    "start_time": "2024-10-14T23:43:41.825Z"
   },
   {
    "duration": 53,
    "start_time": "2024-10-14T23:44:17.143Z"
   },
   {
    "duration": 65,
    "start_time": "2024-10-14T23:45:57.329Z"
   },
   {
    "duration": 74,
    "start_time": "2024-10-14T23:46:29.259Z"
   },
   {
    "duration": 54,
    "start_time": "2024-10-14T23:46:49.248Z"
   },
   {
    "duration": 60,
    "start_time": "2024-10-14T23:46:57.356Z"
   },
   {
    "duration": 54,
    "start_time": "2024-10-14T23:47:17.034Z"
   },
   {
    "duration": 52,
    "start_time": "2024-10-14T23:47:40.655Z"
   },
   {
    "duration": 52,
    "start_time": "2024-10-14T23:48:00.332Z"
   },
   {
    "duration": 56,
    "start_time": "2024-10-14T23:49:13.752Z"
   },
   {
    "duration": 859,
    "start_time": "2024-10-14T23:50:19.273Z"
   },
   {
    "duration": 174,
    "start_time": "2024-10-14T23:54:19.962Z"
   },
   {
    "duration": 51,
    "start_time": "2024-10-14T23:55:21.981Z"
   },
   {
    "duration": 19,
    "start_time": "2024-10-14T23:56:14.474Z"
   },
   {
    "duration": 84,
    "start_time": "2024-10-14T23:58:47.145Z"
   },
   {
    "duration": 28,
    "start_time": "2024-10-15T00:00:04.266Z"
   },
   {
    "duration": 19,
    "start_time": "2024-10-15T00:01:16.143Z"
   },
   {
    "duration": 55,
    "start_time": "2024-10-15T00:01:46.525Z"
   },
   {
    "duration": 19,
    "start_time": "2024-10-15T00:02:10.557Z"
   },
   {
    "duration": 20,
    "start_time": "2024-10-15T00:02:22.602Z"
   },
   {
    "duration": 15,
    "start_time": "2024-10-15T00:02:30.638Z"
   },
   {
    "duration": 18,
    "start_time": "2024-10-15T00:02:31.436Z"
   },
   {
    "duration": 14,
    "start_time": "2024-10-15T00:02:32.475Z"
   },
   {
    "duration": 24,
    "start_time": "2024-10-15T00:02:34.622Z"
   },
   {
    "duration": 17,
    "start_time": "2024-10-15T00:02:37.118Z"
   },
   {
    "duration": 1058,
    "start_time": "2024-10-15T00:03:17.412Z"
   },
   {
    "duration": 16,
    "start_time": "2024-10-15T00:03:18.472Z"
   },
   {
    "duration": 25,
    "start_time": "2024-10-15T00:03:18.491Z"
   },
   {
    "duration": 11,
    "start_time": "2024-10-15T00:03:18.521Z"
   },
   {
    "duration": 3,
    "start_time": "2024-10-15T00:03:18.534Z"
   },
   {
    "duration": 5,
    "start_time": "2024-10-15T00:03:18.539Z"
   },
   {
    "duration": 8,
    "start_time": "2024-10-15T00:03:18.546Z"
   },
   {
    "duration": 6,
    "start_time": "2024-10-15T00:03:18.555Z"
   },
   {
    "duration": 5,
    "start_time": "2024-10-15T00:03:18.562Z"
   },
   {
    "duration": 61,
    "start_time": "2024-10-15T00:03:18.570Z"
   },
   {
    "duration": 330,
    "start_time": "2024-10-15T00:03:18.633Z"
   },
   {
    "duration": 110,
    "start_time": "2024-10-15T00:03:18.966Z"
   },
   {
    "duration": 316,
    "start_time": "2024-10-15T00:03:19.078Z"
   },
   {
    "duration": 24,
    "start_time": "2024-10-15T00:03:19.396Z"
   },
   {
    "duration": 4,
    "start_time": "2024-10-15T00:03:19.433Z"
   },
   {
    "duration": 3,
    "start_time": "2024-10-15T00:03:19.439Z"
   },
   {
    "duration": 71,
    "start_time": "2024-10-15T00:03:19.444Z"
   },
   {
    "duration": 1108,
    "start_time": "2024-10-15T00:03:19.518Z"
   },
   {
    "duration": 0,
    "start_time": "2024-10-15T00:03:20.627Z"
   },
   {
    "duration": 0,
    "start_time": "2024-10-15T00:03:20.628Z"
   },
   {
    "duration": 996,
    "start_time": "2024-10-15T00:03:59.891Z"
   },
   {
    "duration": 972,
    "start_time": "2024-10-15T00:04:20.753Z"
   },
   {
    "duration": 52,
    "start_time": "2024-10-15T00:04:27.229Z"
   },
   {
    "duration": 53,
    "start_time": "2024-10-15T00:05:22.051Z"
   },
   {
    "duration": 917,
    "start_time": "2024-10-15T00:05:27.552Z"
   },
   {
    "duration": 948,
    "start_time": "2024-10-15T00:05:43.617Z"
   },
   {
    "duration": 68,
    "start_time": "2024-10-15T00:05:46.756Z"
   },
   {
    "duration": 931,
    "start_time": "2024-10-15T00:06:10.879Z"
   },
   {
    "duration": 839,
    "start_time": "2024-10-15T00:06:37.544Z"
   },
   {
    "duration": 61,
    "start_time": "2024-10-15T00:07:29.190Z"
   },
   {
    "duration": 880,
    "start_time": "2024-10-15T00:07:31.062Z"
   },
   {
    "duration": 17,
    "start_time": "2024-10-15T00:08:08.552Z"
   },
   {
    "duration": 52,
    "start_time": "2024-10-15T00:08:43.425Z"
   },
   {
    "duration": 12,
    "start_time": "2024-10-15T00:10:42.374Z"
   },
   {
    "duration": 14,
    "start_time": "2024-10-15T00:10:57.971Z"
   },
   {
    "duration": 14,
    "start_time": "2024-10-15T00:11:57.730Z"
   },
   {
    "duration": 25,
    "start_time": "2024-10-15T00:12:32.004Z"
   },
   {
    "duration": 17,
    "start_time": "2024-10-15T00:13:39.844Z"
   },
   {
    "duration": 14,
    "start_time": "2024-10-15T00:13:52.665Z"
   },
   {
    "duration": 14,
    "start_time": "2024-10-15T00:14:06.243Z"
   },
   {
    "duration": 5,
    "start_time": "2024-10-15T00:15:13.279Z"
   },
   {
    "duration": 65,
    "start_time": "2024-10-15T00:15:54.529Z"
   },
   {
    "duration": 81,
    "start_time": "2024-10-15T00:17:17.299Z"
   },
   {
    "duration": 68,
    "start_time": "2024-10-15T00:17:47.932Z"
   },
   {
    "duration": 76,
    "start_time": "2024-10-15T00:18:03.024Z"
   },
   {
    "duration": 854,
    "start_time": "2024-10-15T00:19:34.918Z"
   },
   {
    "duration": 1044,
    "start_time": "2024-10-15T00:20:13.393Z"
   },
   {
    "duration": 17,
    "start_time": "2024-10-15T00:20:14.439Z"
   },
   {
    "duration": 7,
    "start_time": "2024-10-15T00:20:14.458Z"
   },
   {
    "duration": 6,
    "start_time": "2024-10-15T00:20:14.468Z"
   },
   {
    "duration": 4,
    "start_time": "2024-10-15T00:20:14.475Z"
   },
   {
    "duration": 5,
    "start_time": "2024-10-15T00:20:14.481Z"
   },
   {
    "duration": 11,
    "start_time": "2024-10-15T00:20:14.505Z"
   },
   {
    "duration": 12,
    "start_time": "2024-10-15T00:20:14.517Z"
   },
   {
    "duration": 6,
    "start_time": "2024-10-15T00:20:14.530Z"
   },
   {
    "duration": 18,
    "start_time": "2024-10-15T00:20:14.539Z"
   },
   {
    "duration": 362,
    "start_time": "2024-10-15T00:20:14.558Z"
   },
   {
    "duration": 101,
    "start_time": "2024-10-15T00:20:14.933Z"
   },
   {
    "duration": 316,
    "start_time": "2024-10-15T00:20:15.036Z"
   },
   {
    "duration": 3,
    "start_time": "2024-10-15T00:20:15.355Z"
   },
   {
    "duration": 4,
    "start_time": "2024-10-15T00:20:15.360Z"
   },
   {
    "duration": 4,
    "start_time": "2024-10-15T00:20:15.366Z"
   },
   {
    "duration": 84,
    "start_time": "2024-10-15T00:20:15.371Z"
   },
   {
    "duration": 871,
    "start_time": "2024-10-15T00:20:15.457Z"
   },
   {
    "duration": 53,
    "start_time": "2024-10-15T00:20:16.330Z"
   },
   {
    "duration": 36,
    "start_time": "2024-10-15T00:20:16.384Z"
   },
   {
    "duration": 66,
    "start_time": "2024-10-15T00:20:37.045Z"
   },
   {
    "duration": 3,
    "start_time": "2024-10-15T00:21:52.492Z"
   },
   {
    "duration": 19,
    "start_time": "2024-10-15T00:21:54.332Z"
   },
   {
    "duration": 6,
    "start_time": "2024-10-15T00:22:07.731Z"
   },
   {
    "duration": 12,
    "start_time": "2024-10-15T00:22:08.600Z"
   },
   {
    "duration": 5,
    "start_time": "2024-10-15T00:22:09.025Z"
   },
   {
    "duration": 5,
    "start_time": "2024-10-15T00:22:09.450Z"
   },
   {
    "duration": 16,
    "start_time": "2024-10-15T00:22:10.813Z"
   },
   {
    "duration": 5,
    "start_time": "2024-10-15T00:22:14.235Z"
   },
   {
    "duration": 6,
    "start_time": "2024-10-15T00:22:14.829Z"
   },
   {
    "duration": 26,
    "start_time": "2024-10-15T00:22:15.606Z"
   },
   {
    "duration": 313,
    "start_time": "2024-10-15T00:22:16.154Z"
   },
   {
    "duration": 103,
    "start_time": "2024-10-15T00:22:17.163Z"
   },
   {
    "duration": 315,
    "start_time": "2024-10-15T00:22:17.561Z"
   },
   {
    "duration": 3,
    "start_time": "2024-10-15T00:22:19.987Z"
   },
   {
    "duration": 7,
    "start_time": "2024-10-15T00:22:20.413Z"
   },
   {
    "duration": 4,
    "start_time": "2024-10-15T00:22:20.780Z"
   },
   {
    "duration": 69,
    "start_time": "2024-10-15T00:22:21.988Z"
   },
   {
    "duration": 881,
    "start_time": "2024-10-15T00:22:22.789Z"
   },
   {
    "duration": 60,
    "start_time": "2024-10-15T00:22:23.672Z"
   },
   {
    "duration": 17,
    "start_time": "2024-10-15T00:22:23.733Z"
   }
  ],
  "kernelspec": {
   "display_name": "Python 3",
   "language": "python",
   "name": "python3"
  },
  "language_info": {
   "codemirror_mode": {
    "name": "ipython",
    "version": 3
   },
   "file_extension": ".py",
   "mimetype": "text/x-python",
   "name": "python",
   "nbconvert_exporter": "python",
   "pygments_lexer": "ipython3",
   "version": "3.12.7"
  },
  "toc": {
   "base_numbering": 1,
   "nav_menu": {},
   "number_sections": true,
   "sideBar": true,
   "skip_h1_title": true,
   "title_cell": "Table of Contents",
   "title_sidebar": "Contents",
   "toc_cell": false,
   "toc_position": {},
   "toc_section_display": true,
   "toc_window_display": false
  }
 },
 "nbformat": 4,
 "nbformat_minor": 2
}
